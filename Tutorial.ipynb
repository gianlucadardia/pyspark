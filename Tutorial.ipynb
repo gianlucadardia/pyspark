{
 "cells": [
  {
   "cell_type": "markdown",
   "id": "cca58d3f-d38b-4306-9766-314219253944",
   "metadata": {},
   "source": [
    "### Create Spark session"
   ]
  },
  {
   "cell_type": "code",
   "execution_count": 2,
   "id": "c9dfeda4-8dc6-4a4f-876e-481c083e0ffc",
   "metadata": {},
   "outputs": [],
   "source": [
    "from pyspark.sql import SparkSession\n",
    "spark = SparkSession.builder.appName(\"Data Analyst Pyspark Tutorial\").getOrCreate()\n",
    "\n",
    "from pyspark.sql.types import *"
   ]
  },
  {
   "cell_type": "markdown",
   "id": "b4671498-8640-4cb2-ab71-37ef0947c797",
   "metadata": {},
   "source": [
    "### Create Data Frame"
   ]
  },
  {
   "cell_type": "markdown",
   "id": "08a0e157-6333-4e04-982d-7726aa9f9c80",
   "metadata": {},
   "source": [
    "##### *Read CSV with header*"
   ]
  },
  {
   "cell_type": "code",
   "execution_count": 71,
   "id": "443c0a59-7919-4865-8088-098d719d6e8e",
   "metadata": {},
   "outputs": [],
   "source": [
    "#Import file with first row as heder\n",
    "\n",
    "dfpostalcodes = spark.read.csv('./bronze/postalcodes.csv',header=True)\n"
   ]
  },
  {
   "cell_type": "code",
   "execution_count": 73,
   "id": "a9bde0aa-8ec5-4b36-b5c1-f7d83bc72fe1",
   "metadata": {},
   "outputs": [
    {
     "name": "stdout",
     "output_type": "stream",
     "text": [
      "+--------+-----+-----+---------+---------+--------+---+\n",
      "|    City|State|  Zip| Latitude|Longitude|Timezone|DST|\n",
      "+--------+-----+-----+---------+---------+--------+---+\n",
      "|    Cove|   AR|90085|34.398483|-94.39398|      -6|  1|\n",
      "|Edgemont|   AR|72044|35.624351|-92.16056|      -6|  1|\n",
      "|Sherburn|   MN|90100|43.660847|-94.74357|      -6|  1|\n",
      "|  Lamont|   MI|90107|43.010337|-85.89754|      -5|  1|\n",
      "|Richland|   IA|52585|41.194129|-91.98027|      -6|  1|\n",
      "+--------+-----+-----+---------+---------+--------+---+\n",
      "only showing top 5 rows\n",
      "\n"
     ]
    }
   ],
   "source": [
    "dfpostalcodes.show(5)"
   ]
  },
  {
   "cell_type": "markdown",
   "id": "c4197112-95af-40f4-99c8-f6a6d37c947e",
   "metadata": {},
   "source": [
    "##### *Read file without header*"
   ]
  },
  {
   "cell_type": "code",
   "execution_count": 76,
   "id": "ab235ae0-daac-4f87-8c1d-13e59206ae6a",
   "metadata": {},
   "outputs": [
    {
     "name": "stdout",
     "output_type": "stream",
     "text": [
      "+-------+---+----------+----------+--------------------+--------------------+---+-------+--------+\n",
      "|    _c0|_c1|       _c2|       _c3|                 _c4|                 _c5|_c6|    _c7|     _c8|\n",
      "+-------+---+----------+----------+--------------------+--------------------+---+-------+--------+\n",
      "|SO43701|  1|2019-07-01|      null|christy12@adventu...|Mountain-100 Silv...|  1|3399.99|271.9992|\n",
      "|SO43704|  1|2019-07-01|Julio Ruiz|julio1@adventure-...|Mountain-100 Blac...|  1|3374.99|269.9992|\n",
      "|SO43705|  1|2019-07-01| Curtis Lu|curtis9@adventure...|Mountain-100 Silv...|  1|3399.99|271.9992|\n",
      "+-------+---+----------+----------+--------------------+--------------------+---+-------+--------+\n",
      "only showing top 3 rows\n",
      "\n"
     ]
    }
   ],
   "source": [
    "# import file raw\n",
    "\n",
    "dfcsv = spark.read.csv(\"2019.csv\")\n",
    "dfcsv.show(3)"
   ]
  },
  {
   "cell_type": "code",
   "execution_count": 77,
   "id": "60969a9c-114f-486a-af3e-dc1a740b276a",
   "metadata": {},
   "outputs": [
    {
     "name": "stdout",
     "output_type": "stream",
     "text": [
      "+-------+---+----------+----------+-----------------------------+-----------------------+---+-------+--------+\n",
      "|_c0    |_c1|_c2       |_c3       |_c4                          |_c5                    |_c6|_c7    |_c8     |\n",
      "+-------+---+----------+----------+-----------------------------+-----------------------+---+-------+--------+\n",
      "|SO43701|1  |2019-07-01|null      |christy12@adventure-works.com|Mountain-100 Silver, 44|1  |3399.99|271.9992|\n",
      "|SO43704|1  |2019-07-01|Julio Ruiz|julio1@adventure-works.com   |Mountain-100 Black, 48 |1  |3374.99|269.9992|\n",
      "|SO43705|1  |2019-07-01|Curtis Lu |curtis9@adventure-works.com  |Mountain-100 Silver, 38|1  |3399.99|271.9992|\n",
      "+-------+---+----------+----------+-----------------------------+-----------------------+---+-------+--------+\n",
      "only showing top 3 rows\n",
      "\n"
     ]
    }
   ],
   "source": [
    "dfcsv.show(3,0)"
   ]
  },
  {
   "cell_type": "markdown",
   "id": "b0f76fd9-e80f-46c5-b837-ddc0def33209",
   "metadata": {},
   "source": [
    "##### *Read file poviding schema*"
   ]
  },
  {
   "cell_type": "code",
   "execution_count": 3,
   "id": "3029142b-1016-426a-b3e0-d3594067177b",
   "metadata": {},
   "outputs": [],
   "source": [
    "# Create the schema for the table\n",
    "orderSchema = StructType([\n",
    "    StructField(\"SalesOrderNumber\", StringType()),\n",
    "    StructField(\"SalesOrderLineNumber\", IntegerType()),\n",
    "    StructField(\"OrderDate\", DateType()),\n",
    "    StructField(\"CustomerName\", StringType()),\n",
    "    StructField(\"Email\", StringType()),\n",
    "    StructField(\"Item\", StringType()),\n",
    "    StructField(\"Quantity\", IntegerType()),\n",
    "    StructField(\"UnitPrice\", FloatType()),\n",
    "    StructField(\"Tax\", FloatType())\n",
    "    ])"
   ]
  },
  {
   "cell_type": "code",
   "execution_count": 4,
   "id": "64cdaadb-2db0-416f-848a-8d00c6580827",
   "metadata": {},
   "outputs": [
    {
     "data": {
      "text/plain": [
       "pyspark.sql.types.StructType"
      ]
     },
     "execution_count": 4,
     "metadata": {},
     "output_type": "execute_result"
    }
   ],
   "source": [
    "type(orderSchema)"
   ]
  },
  {
   "cell_type": "code",
   "execution_count": 6,
   "id": "d28b3064-8816-428b-a43c-51b1965a809f",
   "metadata": {},
   "outputs": [
    {
     "name": "stdout",
     "output_type": "stream",
     "text": [
      "+----------------+--------------------+----------+------------+--------------------+--------------------+--------+---------+--------+\n",
      "|SalesOrderNumber|SalesOrderLineNumber| OrderDate|CustomerName|               Email|                Item|Quantity|UnitPrice|     Tax|\n",
      "+----------------+--------------------+----------+------------+--------------------+--------------------+--------+---------+--------+\n",
      "|         SO43701|                   1|2019-07-01|        null|christy12@adventu...|Mountain-100 Silv...|       1|  3399.99|271.9992|\n",
      "|         SO43704|                   1|2019-07-01|  Julio Ruiz|julio1@adventure-...|Mountain-100 Blac...|       1|  3374.99|269.9992|\n",
      "|         SO43705|                   1|2019-07-01|   Curtis Lu|curtis9@adventure...|Mountain-100 Silv...|       1|  3399.99|271.9992|\n",
      "+----------------+--------------------+----------+------------+--------------------+--------------------+--------+---------+--------+\n",
      "only showing top 3 rows\n",
      "\n"
     ]
    }
   ],
   "source": [
    "# Import file raw providing Schema\n",
    "\n",
    "df = spark.read.format(\"csv\").schema(orderSchema).load(\"2019.csv\")\n",
    "df.show(3)"
   ]
  },
  {
   "cell_type": "markdown",
   "id": "fcf011da-69c1-424e-b202-d27d5553c81a",
   "metadata": {},
   "source": [
    "### Exploring Data Frame"
   ]
  },
  {
   "cell_type": "markdown",
   "id": "12589688-5ab1-4a62-878e-8288ed7071b8",
   "metadata": {},
   "source": [
    "#### Getting info"
   ]
  },
  {
   "cell_type": "code",
   "execution_count": 7,
   "id": "4a428359-327e-4d1f-acfd-68f673ab1993",
   "metadata": {},
   "outputs": [
    {
     "data": {
      "text/plain": [
       "1201"
      ]
     },
     "execution_count": 7,
     "metadata": {},
     "output_type": "execute_result"
    }
   ],
   "source": [
    "df.count()"
   ]
  },
  {
   "cell_type": "code",
   "execution_count": 8,
   "id": "216471f9-cf43-4c83-97e8-e1523f52bc56",
   "metadata": {},
   "outputs": [
    {
     "data": {
      "text/plain": [
       "1200"
      ]
     },
     "execution_count": 8,
     "metadata": {},
     "output_type": "execute_result"
    }
   ],
   "source": [
    "df.select('CustomerName').distinct().count() "
   ]
  },
  {
   "cell_type": "markdown",
   "id": "c0b2e07a-5859-49cd-a9c7-b40286e31c18",
   "metadata": {},
   "source": [
    "#### Selecting columns"
   ]
  },
  {
   "cell_type": "code",
   "execution_count": 11,
   "id": "942d6ccb-7fa4-4e18-b41b-29011870b0e1",
   "metadata": {},
   "outputs": [
    {
     "name": "stdout",
     "output_type": "stream",
     "text": [
      "+--------------+\n",
      "|  CustomerName|\n",
      "+--------------+\n",
      "|          null|\n",
      "|    Julio Ruiz|\n",
      "|     Curtis Lu|\n",
      "|  Ruben Prasad|\n",
      "|Albert Alvarez|\n",
      "+--------------+\n",
      "only showing top 5 rows\n",
      "\n"
     ]
    }
   ],
   "source": [
    "dfnew=df.select(\"CustomerName\")\n",
    "dfnew.show(5)"
   ]
  },
  {
   "cell_type": "code",
   "execution_count": 12,
   "id": "56d51f19-0d3d-4ab8-8fa5-a7acaff3d536",
   "metadata": {},
   "outputs": [
    {
     "name": "stdout",
     "output_type": "stream",
     "text": [
      "+--------------+--------------------+\n",
      "|  CustomerName|               Email|\n",
      "+--------------+--------------------+\n",
      "|          null|christy12@adventu...|\n",
      "|    Julio Ruiz|julio1@adventure-...|\n",
      "|     Curtis Lu|curtis9@adventure...|\n",
      "|  Ruben Prasad|ruben10@adventure...|\n",
      "|Albert Alvarez|albert7@adventure...|\n",
      "+--------------+--------------------+\n",
      "only showing top 5 rows\n",
      "\n"
     ]
    }
   ],
   "source": [
    "df.select(\"CustomerName\",\"Email\").show(5)"
   ]
  },
  {
   "cell_type": "code",
   "execution_count": 13,
   "id": "7258bd30-c632-4680-b62f-8048376eb42e",
   "metadata": {},
   "outputs": [
    {
     "name": "stdout",
     "output_type": "stream",
     "text": [
      "+--------------------+----------+\n",
      "|SalesOrderLineNumber| OrderDate|\n",
      "+--------------------+----------+\n",
      "|                   1|2019-07-01|\n",
      "|                   1|2019-07-01|\n",
      "|                   1|2019-07-01|\n",
      "|                   1|2019-07-01|\n",
      "|                   1|2019-07-01|\n",
      "+--------------------+----------+\n",
      "only showing top 5 rows\n",
      "\n"
     ]
    }
   ],
   "source": [
    "df.select(df[1],df[2]).show(5)"
   ]
  },
  {
   "cell_type": "markdown",
   "id": "14d99923-6321-4556-a6d2-bce87980e0fa",
   "metadata": {},
   "source": [
    "#### Describe Data Frame"
   ]
  },
  {
   "cell_type": "code",
   "execution_count": 14,
   "id": "32b94188-9aa6-47ab-8fe1-84ad6a0fdf08",
   "metadata": {},
   "outputs": [
    {
     "name": "stdout",
     "output_type": "stream",
     "text": [
      "+-------+----------------+--------------------+-------------+--------------------+--------------------+--------+------------------+------------------+\n",
      "|summary|SalesOrderNumber|SalesOrderLineNumber| CustomerName|               Email|                Item|Quantity|         UnitPrice|               Tax|\n",
      "+-------+----------------+--------------------+-------------+--------------------+--------------------+--------+------------------+------------------+\n",
      "|  count|            1201|                1201|         1199|                1201|                1201|    1201|              1201|              1201|\n",
      "|   mean|            null|                 1.0|         null|                null|                null|     1.0|3216.5863687100755|257.32691208190664|\n",
      "| stddev|            null|                 0.0|         null|                null|                null|     0.0| 906.5658395192345| 72.52525271028958|\n",
      "|    min|         SO43697|                   1|Aaron Collins|aaron11@adventure...|Mountain-100 Blac...|       1|          699.0982|           55.9279|\n",
      "|    max|         SO45265|                   1|         null|zachary45@adventu...|    Road-650 Red, 62|       1|           3578.27|          286.2616|\n",
      "+-------+----------------+--------------------+-------------+--------------------+--------------------+--------+------------------+------------------+\n",
      "\n"
     ]
    }
   ],
   "source": [
    "df.describe().show()"
   ]
  },
  {
   "cell_type": "markdown",
   "id": "ad4204b8-1193-40cf-a415-c4f5c0ef0f23",
   "metadata": {},
   "source": [
    "### Using functions\n",
    "\n",
    "[Pyspark Function](https://spark.apache.org/docs/latest/api/python/reference/pyspark.sql/functions.html)"
   ]
  },
  {
   "cell_type": "markdown",
   "id": "7a798426-3f11-49f9-ae81-87eb53ef3424",
   "metadata": {},
   "source": [
    "#### Generating columns\n"
   ]
  },
  {
   "cell_type": "markdown",
   "id": "b83921d4-939b-49f5-8a10-c8dbb439ac27",
   "metadata": {},
   "source": [
    "**Introduction to withColumn link to this section**\n",
    "\n",
    "The withColumn function in Spark allows you to add a new column or replace an existing column in a DataFrame. It provides a flexible and expressive way to modify or derive new columns based on existing ones. With withColumn , you can apply transformations, perform computations, or create complex expressions to augment your data."
   ]
  },
  {
   "cell_type": "markdown",
   "id": "11f4c6a7-f597-4474-b878-1b4cbbf11513",
   "metadata": {},
   "source": [
    "**Adding a New Column link to this section**\n",
    "\n",
    "To add a new column using withColumn , you need to specify the name of the new column and the transformation or computation you want to apply."
   ]
  },
  {
   "cell_type": "code",
   "execution_count": 15,
   "id": "49fcfa87-9fb1-4328-bf38-ffe69481b6f4",
   "metadata": {},
   "outputs": [
    {
     "name": "stdout",
     "output_type": "stream",
     "text": [
      "+----------------+--------------------+----------+--------------+-----------------------------+-----------------------+--------+---------+--------+---------+\n",
      "|SalesOrderNumber|SalesOrderLineNumber|OrderDate |CustomerName  |Email                        |Item                   |Quantity|UnitPrice|Tax     |lot      |\n",
      "+----------------+--------------------+----------+--------------+-----------------------------+-----------------------+--------+---------+--------+---------+\n",
      "|SO43701         |1                   |2019-07-01|null          |christy12@adventure-works.com|Mountain-100 Silver, 44|1       |3399.99  |271.9992|not a lot|\n",
      "|SO43704         |1                   |2019-07-01|Julio Ruiz    |julio1@adventure-works.com   |Mountain-100 Black, 48 |1       |3374.99  |269.9992|not a lot|\n",
      "|SO43705         |1                   |2019-07-01|Curtis Lu     |curtis9@adventure-works.com  |Mountain-100 Silver, 38|1       |3399.99  |271.9992|not a lot|\n",
      "|SO43700         |1                   |2019-07-01|Ruben Prasad  |ruben10@adventure-works.com  |Road-650 Black, 62     |1       |699.0982 |55.9279 |not a lot|\n",
      "|SO43703         |1                   |2019-07-01|Albert Alvarez|albert7@adventure-works.com  |Road-150 Red, 62       |1       |3578.27  |286.2616|not a lot|\n",
      "+----------------+--------------------+----------+--------------+-----------------------------+-----------------------+--------+---------+--------+---------+\n",
      "only showing top 5 rows\n",
      "\n"
     ]
    }
   ],
   "source": [
    "from pyspark.sql.functions import when,lit, col, current_timestamp, input_file_name\n",
    "\n",
    "dfWithNewColumn = df.withColumn(\"lot\", when(col(\"Quantity\") >= 100, \"a lot\").otherwise(\"not a lot\")) \n",
    "\n",
    "dfWithNewColumn.show(5,0)"
   ]
  },
  {
   "cell_type": "markdown",
   "id": "c1e23338-18e1-4a01-a181-3d24c4f9b018",
   "metadata": {},
   "source": [
    "**Replacing an Existing Column link to this section**\n",
    "\n",
    "withColumn can also be used to replace an existing column in a DataFrame"
   ]
  },
  {
   "cell_type": "code",
   "execution_count": 16,
   "id": "b9b7eb0f-646f-4350-8a53-33339dc5c4b4",
   "metadata": {},
   "outputs": [
    {
     "name": "stdout",
     "output_type": "stream",
     "text": [
      "+----------------+--------------------+----------+------------+--------------------+--------------------+--------+---------+--------+\n",
      "|SalesOrderNumber|SalesOrderLineNumber| OrderDate|CustomerName|               Email|                Item|Quantity|UnitPrice|     Tax|\n",
      "+----------------+--------------------+----------+------------+--------------------+--------------------+--------+---------+--------+\n",
      "|         SO43701|                   1|2019-07-01|        null|christy12@adventu...|Mountain-100 Silv...|       1|  3399.99|271.9992|\n",
      "|         SO43704|                   1|2019-07-01|  JULIO RUIZ|julio1@adventure-...|Mountain-100 Blac...|       1|  3374.99|269.9992|\n",
      "|         SO43705|                   1|2019-07-01|   CURTIS LU|curtis9@adventure...|Mountain-100 Silv...|       1|  3399.99|271.9992|\n",
      "+----------------+--------------------+----------+------------+--------------------+--------------------+--------+---------+--------+\n",
      "only showing top 3 rows\n",
      "\n"
     ]
    }
   ],
   "source": [
    "from pyspark.sql.functions import upper\n",
    "\n",
    "dfWithUppercaseName = df.withColumn(\"CustomerName\", upper(col(\"CustomerName\")))\n",
    "dfWithUppercaseName.show(3)\n"
   ]
  },
  {
   "cell_type": "code",
   "execution_count": 17,
   "id": "869f3f6b-33ac-4a74-98d4-3de7b5e27207",
   "metadata": {},
   "outputs": [
    {
     "name": "stdout",
     "output_type": "stream",
     "text": [
      "+----------------+--------------------+----------+------------+--------------------+--------------------+--------+---------+--------+\n",
      "|SalesOrderNumber|SalesOrderLineNumber| OrderDate|CustomerName|               Email|                Item|Quantity|UnitPrice|     Tax|\n",
      "+----------------+--------------------+----------+------------+--------------------+--------------------+--------+---------+--------+\n",
      "|         SO43701|                   1|2019-07-01|        null|christy12@adventu...|Mountain-100 Silv...|       1|  3399.99|271.9992|\n",
      "|         SO43704|                   1|2019-07-01|  julio ruiz|julio1@adventure-...|Mountain-100 Blac...|       1|  3374.99|269.9992|\n",
      "|         SO43705|                   1|2019-07-01|   curtis lu|curtis9@adventure...|Mountain-100 Silv...|       1|  3399.99|271.9992|\n",
      "+----------------+--------------------+----------+------------+--------------------+--------------------+--------+---------+--------+\n",
      "only showing top 3 rows\n",
      "\n"
     ]
    }
   ],
   "source": [
    "from pyspark.sql.functions import lower\n",
    "\n",
    "dfWithLowercaseName = df.withColumn(\"CustomerName\", lower(col(\"CustomerName\")))\n",
    "dfWithLowercaseName.show(3)\n"
   ]
  },
  {
   "cell_type": "code",
   "execution_count": 18,
   "id": "6b919408-c414-401a-a9b4-5c5acf465c59",
   "metadata": {},
   "outputs": [
    {
     "name": "stdout",
     "output_type": "stream",
     "text": [
      "+----------------+--------------------+----------+------------+--------------------+--------------------+--------+---------+--------+\n",
      "|SalesOrderNumber|SalesOrderLineNumber| OrderDate|CustomerName|               Email|                Item|Quantity|UnitPrice|     Tax|\n",
      "+----------------+--------------------+----------+------------+--------------------+--------------------+--------+---------+--------+\n",
      "|         SO43701|                   1|2019-07-01|        null|christy12@adventu...|Mountain-100 Silv...|       1|  3399.99|271.9992|\n",
      "|         SO43704|                   1|2019-07-01|  Julio Ruiz|julio1@adventure-...|Mountain-100 Blac...|       1|  3374.99|269.9992|\n",
      "|         SO43705|                   1|2019-07-01|   Curtis Lu|curtis9@adventure...|Mountain-100 Silv...|       1|  3399.99|271.9992|\n",
      "+----------------+--------------------+----------+------------+--------------------+--------------------+--------+---------+--------+\n",
      "only showing top 3 rows\n",
      "\n"
     ]
    }
   ],
   "source": [
    "from pyspark.sql.functions import initcap\n",
    "\n",
    "dfWithInitcapcaseName = df.withColumn(\"CustomerName\", initcap(col(\"CustomerName\")))\n",
    "dfWithInitcapcaseName.show(3)"
   ]
  },
  {
   "cell_type": "markdown",
   "id": "822601b1-473d-4f0a-9db9-59adc02d6ea0",
   "metadata": {},
   "source": [
    "#### Dropping columns"
   ]
  },
  {
   "cell_type": "code",
   "execution_count": 19,
   "id": "c823ddf5-841a-4110-b6a1-e636c5ae1d00",
   "metadata": {},
   "outputs": [
    {
     "name": "stdout",
     "output_type": "stream",
     "text": [
      "+----------------+--------------------+----------+--------------+--------------------+--------+---------+--------+\n",
      "|SalesOrderNumber|SalesOrderLineNumber| OrderDate|  CustomerName|                Item|Quantity|UnitPrice|     Tax|\n",
      "+----------------+--------------------+----------+--------------+--------------------+--------+---------+--------+\n",
      "|         SO43701|                   1|2019-07-01|          null|Mountain-100 Silv...|       1|  3399.99|271.9992|\n",
      "|         SO43704|                   1|2019-07-01|    Julio Ruiz|Mountain-100 Blac...|       1|  3374.99|269.9992|\n",
      "|         SO43705|                   1|2019-07-01|     Curtis Lu|Mountain-100 Silv...|       1|  3399.99|271.9992|\n",
      "|         SO43700|                   1|2019-07-01|  Ruben Prasad|  Road-650 Black, 62|       1| 699.0982| 55.9279|\n",
      "|         SO43703|                   1|2019-07-01|Albert Alvarez|    Road-150 Red, 62|       1|  3578.27|286.2616|\n",
      "+----------------+--------------------+----------+--------------+--------------------+--------+---------+--------+\n",
      "only showing top 5 rows\n",
      "\n"
     ]
    }
   ],
   "source": [
    "df_pyspark = df\n",
    "df_pyspark = df_pyspark.drop(\"Email\")\n",
    "df_pyspark.show(5)"
   ]
  },
  {
   "cell_type": "markdown",
   "id": "7d82614b-850d-4025-b984-dc4e9480425b",
   "metadata": {},
   "source": [
    "#### Using functions\n",
    "\n",
    "[Pyspark Function](https://spark.apache.org/docs/latest/api/python/reference/pyspark.sql/functions.html)"
   ]
  },
  {
   "cell_type": "code",
   "execution_count": 21,
   "id": "55355e8b-c0a9-4040-b1c9-0926a88fddc7",
   "metadata": {},
   "outputs": [
    {
     "name": "stdout",
     "output_type": "stream",
     "text": [
      "+----------------+--------------------+----------+--------------+-----------------------------+-----------------------+--------+---------+--------+--------------------------------------+\n",
      "|SalesOrderNumber|SalesOrderLineNumber|OrderDate |CustomerName  |Email                        |Item                   |Quantity|UnitPrice|Tax     |FileName                              |\n",
      "+----------------+--------------------+----------+--------------+-----------------------------+-----------------------+--------+---------+--------+--------------------------------------+\n",
      "|SO43701         |1                   |2019-07-01|null          |christy12@adventure-works.com|Mountain-100 Silver, 44|1       |3399.99  |271.9992|file:///C:/Users/gdardia/data/2019.csv|\n",
      "|SO43704         |1                   |2019-07-01|Julio Ruiz    |julio1@adventure-works.com   |Mountain-100 Black, 48 |1       |3374.99  |269.9992|file:///C:/Users/gdardia/data/2019.csv|\n",
      "|SO43705         |1                   |2019-07-01|Curtis Lu     |curtis9@adventure-works.com  |Mountain-100 Silver, 38|1       |3399.99  |271.9992|file:///C:/Users/gdardia/data/2019.csv|\n",
      "|SO43700         |1                   |2019-07-01|Ruben Prasad  |ruben10@adventure-works.com  |Road-650 Black, 62     |1       |699.0982 |55.9279 |file:///C:/Users/gdardia/data/2019.csv|\n",
      "|SO43703         |1                   |2019-07-01|Albert Alvarez|albert7@adventure-works.com  |Road-150 Red, 62       |1       |3578.27  |286.2616|file:///C:/Users/gdardia/data/2019.csv|\n",
      "+----------------+--------------------+----------+--------------+-----------------------------+-----------------------+--------+---------+--------+--------------------------------------+\n",
      "only showing top 5 rows\n",
      "\n"
     ]
    }
   ],
   "source": [
    "from pyspark.sql.functions import when,lit, col, current_timestamp, input_file_name\n",
    "\n",
    " # Add columns IsFlagged, CreatedTS and ModifiedTS\n",
    "df = df.withColumn(\"FileName\", input_file_name()) \n",
    "\n",
    "df.show(5,0)"
   ]
  },
  {
   "cell_type": "code",
   "execution_count": null,
   "id": "0be5e9cf-fb17-4977-b2bf-78a300704a43",
   "metadata": {},
   "outputs": [],
   "source": [
    "#df =df.withColumn(\"CreatedTS\", current_timestamp()).withColumn(\"ModifiedTS\", current_timestamp())"
   ]
  },
  {
   "cell_type": "code",
   "execution_count": 23,
   "id": "922d9dd2-8b27-4301-99ad-ccbb720c7d68",
   "metadata": {},
   "outputs": [
    {
     "name": "stdout",
     "output_type": "stream",
     "text": [
      "+----------------+--------------------+----------+------------+-----------------------------+-----------------------+--------+---------+--------+--------------------------------------+-----------------------+-----------------------+\n",
      "|SalesOrderNumber|SalesOrderLineNumber|OrderDate |CustomerName|Email                        |Item                   |Quantity|UnitPrice|Tax     |FileName                              |CreatedTS              |ModifiedTS             |\n",
      "+----------------+--------------------+----------+------------+-----------------------------+-----------------------+--------+---------+--------+--------------------------------------+-----------------------+-----------------------+\n",
      "|SO43701         |1                   |2019-07-01|null        |christy12@adventure-works.com|Mountain-100 Silver, 44|1       |3399.99  |271.9992|file:///C:/Users/gdardia/data/2019.csv|2024-04-03 18:03:52.383|2024-04-03 18:03:52.383|\n",
      "|SO43704         |1                   |2019-07-01|Julio Ruiz  |julio1@adventure-works.com   |Mountain-100 Black, 48 |1       |3374.99  |269.9992|file:///C:/Users/gdardia/data/2019.csv|2024-04-03 18:03:52.383|2024-04-03 18:03:52.383|\n",
      "|SO43705         |1                   |2019-07-01|Curtis Lu   |curtis9@adventure-works.com  |Mountain-100 Silver, 38|1       |3399.99  |271.9992|file:///C:/Users/gdardia/data/2019.csv|2024-04-03 18:03:52.383|2024-04-03 18:03:52.383|\n",
      "+----------------+--------------------+----------+------------+-----------------------------+-----------------------+--------+---------+--------+--------------------------------------+-----------------------+-----------------------+\n",
      "only showing top 3 rows\n",
      "\n"
     ]
    }
   ],
   "source": [
    "# Add specific columns\n",
    "\n",
    "df =df.withColumn(\"CreatedTS\", current_timestamp())\n",
    "df =df.withColumn(\"ModifiedTS\", current_timestamp())\n",
    "\n",
    "df.show(3,0)"
   ]
  },
  {
   "cell_type": "code",
   "execution_count": 26,
   "id": "8b313469-2d0c-4fa9-8119-c0d5e8edff5d",
   "metadata": {
    "scrolled": true
   },
   "outputs": [],
   "source": [
    "desired_column=df.columns[-5:]"
   ]
  },
  {
   "cell_type": "code",
   "execution_count": 28,
   "id": "4c013d25-eab3-48e8-87ee-cd24eb303475",
   "metadata": {
    "scrolled": true
   },
   "outputs": [
    {
     "data": {
      "text/plain": [
       "list"
      ]
     },
     "execution_count": 28,
     "metadata": {},
     "output_type": "execute_result"
    }
   ],
   "source": [
    "type(desired_column)"
   ]
  },
  {
   "cell_type": "code",
   "execution_count": 29,
   "id": "e7c005ca-eed1-406c-80c3-cb757c80ac58",
   "metadata": {},
   "outputs": [
    {
     "name": "stdout",
     "output_type": "stream",
     "text": [
      "['UnitPrice', 'Tax', 'FileName', 'CreatedTS', 'ModifiedTS']\n"
     ]
    }
   ],
   "source": [
    "print(desired_column)"
   ]
  },
  {
   "cell_type": "code",
   "execution_count": 30,
   "id": "e0e1b94b-3216-4d54-9cbb-4aa9d7a0bddd",
   "metadata": {},
   "outputs": [
    {
     "name": "stdout",
     "output_type": "stream",
     "text": [
      "+---------+--------+--------------------------------------+-----------------------+-----------------------+\n",
      "|UnitPrice|Tax     |FileName                              |CreatedTS              |ModifiedTS             |\n",
      "+---------+--------+--------------------------------------+-----------------------+-----------------------+\n",
      "|3399.99  |271.9992|file:///C:/Users/gdardia/data/2019.csv|2024-04-03 18:06:51.272|2024-04-03 18:06:51.272|\n",
      "|3374.99  |269.9992|file:///C:/Users/gdardia/data/2019.csv|2024-04-03 18:06:51.272|2024-04-03 18:06:51.272|\n",
      "|3399.99  |271.9992|file:///C:/Users/gdardia/data/2019.csv|2024-04-03 18:06:51.272|2024-04-03 18:06:51.272|\n",
      "+---------+--------+--------------------------------------+-----------------------+-----------------------+\n",
      "only showing top 3 rows\n",
      "\n"
     ]
    }
   ],
   "source": [
    "df.select(df.columns[-5:]).show(3,0)"
   ]
  },
  {
   "cell_type": "code",
   "execution_count": 31,
   "id": "ad17b463-a2e4-457f-bfb6-ff62fb17e183",
   "metadata": {},
   "outputs": [
    {
     "name": "stdout",
     "output_type": "stream",
     "text": [
      "+--------------+\n",
      "|CustomerName  |\n",
      "+--------------+\n",
      "|null          |\n",
      "|Julio Ruiz    |\n",
      "|Curtis Lu     |\n",
      "|Ruben Prasad  |\n",
      "|Albert Alvarez|\n",
      "+--------------+\n",
      "only showing top 5 rows\n",
      "\n"
     ]
    }
   ],
   "source": [
    "df.select(\"CustomerName\").show(5,0)"
   ]
  },
  {
   "cell_type": "code",
   "execution_count": null,
   "id": "edb581e0-833c-44f5-bbdc-187e50160216",
   "metadata": {},
   "outputs": [],
   "source": [
    "#df.where(df.CustomerName.isNotNull()).show(10,0)\n",
    "#df.where(df.CustomerName.isNotNull()).count()"
   ]
  },
  {
   "cell_type": "code",
   "execution_count": 32,
   "id": "c3b5fb61-8140-4239-a8e4-d44b15784c32",
   "metadata": {},
   "outputs": [
    {
     "name": "stdout",
     "output_type": "stream",
     "text": [
      "+----------------+--------------------+----------+------------+-----------------------------+-----------------------+--------+---------+--------+--------------------------------------+----------------------+----------------------+\n",
      "|SalesOrderNumber|SalesOrderLineNumber|OrderDate |CustomerName|Email                        |Item                   |Quantity|UnitPrice|Tax     |FileName                              |CreatedTS             |ModifiedTS            |\n",
      "+----------------+--------------------+----------+------------+-----------------------------+-----------------------+--------+---------+--------+--------------------------------------+----------------------+----------------------+\n",
      "|SO43701         |1                   |2019-07-01|null        |christy12@adventure-works.com|Mountain-100 Silver, 44|1       |3399.99  |271.9992|file:///C:/Users/gdardia/data/2019.csv|2024-04-03 18:08:25.42|2024-04-03 18:08:25.42|\n",
      "|SO43710         |1                   |2019-07-02|null        |katrina20@adventure-works.com|Road-150 Red, 56       |1       |3578.27  |286.2616|file:///C:/Users/gdardia/data/2019.csv|2024-04-03 18:08:25.42|2024-04-03 18:08:25.42|\n",
      "+----------------+--------------------+----------+------------+-----------------------------+-----------------------+--------+---------+--------+--------------------------------------+----------------------+----------------------+\n",
      "\n"
     ]
    }
   ],
   "source": [
    "df.where(df.CustomerName.isNull()).show(10,0)\n"
   ]
  },
  {
   "cell_type": "code",
   "execution_count": 33,
   "id": "ca7f89e9-a980-47fe-b6b0-d3514fc9555b",
   "metadata": {},
   "outputs": [
    {
     "data": {
      "text/plain": [
       "2"
      ]
     },
     "execution_count": 33,
     "metadata": {},
     "output_type": "execute_result"
    }
   ],
   "source": [
    "df.where(df.CustomerName.isNull()).count()"
   ]
  },
  {
   "cell_type": "code",
   "execution_count": 34,
   "id": "ac9f0bdc-d716-4805-b94d-3ab16cead5ec",
   "metadata": {
    "scrolled": true
   },
   "outputs": [
    {
     "name": "stdout",
     "output_type": "stream",
     "text": [
      "+----------------+--------------------+---------+------------+-----+----+--------+---------+---+--------+---------+----------+\n",
      "|SalesOrderNumber|SalesOrderLineNumber|OrderDate|CustomerName|Email|Item|Quantity|UnitPrice|Tax|FileName|CreatedTS|ModifiedTS|\n",
      "+----------------+--------------------+---------+------------+-----+----+--------+---------+---+--------+---------+----------+\n",
      "+----------------+--------------------+---------+------------+-----+----+--------+---------+---+--------+---------+----------+\n",
      "\n"
     ]
    },
    {
     "data": {
      "text/plain": [
       "0"
      ]
     },
     "execution_count": 34,
     "metadata": {},
     "output_type": "execute_result"
    }
   ],
   "source": [
    "df.filter(df.CustomerName == \"\").show(1)\n",
    "df.filter(df.CustomerName == \"\").count()\n"
   ]
  },
  {
   "cell_type": "code",
   "execution_count": null,
   "id": "efe2a4eb-a1b1-438e-9e42-68605ce03dff",
   "metadata": {
    "jupyter": {
     "source_hidden": true
    }
   },
   "outputs": [],
   "source": [
    "df.filter(df.CustomerName != \"\").show(1)\n",
    "df.filter(df.CustomerName != \"\").count()\n"
   ]
  },
  {
   "cell_type": "code",
   "execution_count": 36,
   "id": "0152e475-cc81-48c8-8a06-963004efa64c",
   "metadata": {},
   "outputs": [
    {
     "name": "stdout",
     "output_type": "stream",
     "text": [
      "+----------------+--------------------+----------+------------+--------------------+--------------------+--------+---------+--------+--------------------+--------------------+--------------------+\n",
      "|SalesOrderNumber|SalesOrderLineNumber| OrderDate|CustomerName|               Email|                Item|Quantity|UnitPrice|     Tax|            FileName|           CreatedTS|          ModifiedTS|\n",
      "+----------------+--------------------+----------+------------+--------------------+--------------------+--------+---------+--------+--------------------+--------------------+--------------------+\n",
      "|         SO43701|                   1|2019-07-01|     Unknown|christy12@adventu...|Mountain-100 Silv...|       1|  3399.99|271.9992|file:///C:/Users/...|2024-04-03 18:11:...|2024-04-03 18:11:...|\n",
      "|         SO43704|                   1|2019-07-01|  Julio Ruiz|julio1@adventure-...|Mountain-100 Blac...|       1|  3374.99|269.9992|file:///C:/Users/...|2024-04-03 18:11:...|2024-04-03 18:11:...|\n",
      "|         SO43705|                   1|2019-07-01|   Curtis Lu|curtis9@adventure...|Mountain-100 Silv...|       1|  3399.99|271.9992|file:///C:/Users/...|2024-04-03 18:11:...|2024-04-03 18:11:...|\n",
      "+----------------+--------------------+----------+------------+--------------------+--------------------+--------+---------+--------+--------------------+--------------------+--------------------+\n",
      "only showing top 3 rows\n",
      "\n"
     ]
    }
   ],
   "source": [
    "from pyspark.sql.functions import when,lit, col, current_timestamp, input_file_name\n",
    "\n",
    "# Update CustomerName to \"Unknown\" if CustomerName null or empty\n",
    "dfnew2 = df.withColumn(\"CustomerName\", when(col(\"CustomerName\").isNull(),lit(\"Unknown\")).otherwise(col(\"CustomerName\")))\n",
    "\n",
    "dfnew2.show(3)"
   ]
  },
  {
   "cell_type": "markdown",
   "id": "5d263550-1e8b-49a5-8810-392ff707a6b8",
   "metadata": {},
   "source": [
    "### CLEANING DATA"
   ]
  },
  {
   "cell_type": "markdown",
   "id": "3594677c-bbfc-4d65-aaac-86fea3db97e3",
   "metadata": {},
   "source": [
    "#### Handle null values"
   ]
  },
  {
   "cell_type": "code",
   "execution_count": 37,
   "id": "f8d029cd-2a1b-4540-805c-72973905425e",
   "metadata": {},
   "outputs": [
    {
     "name": "stdout",
     "output_type": "stream",
     "text": [
      "+----------------+--------------------+----------+--------------+--------------------+--------------------+--------+---------+--------+--------------------+--------------------+--------------------+\n",
      "|SalesOrderNumber|SalesOrderLineNumber| OrderDate|  CustomerName|               Email|                Item|Quantity|UnitPrice|     Tax|            FileName|           CreatedTS|          ModifiedTS|\n",
      "+----------------+--------------------+----------+--------------+--------------------+--------------------+--------+---------+--------+--------------------+--------------------+--------------------+\n",
      "|         SO43701|                   1|2019-07-01|          null|christy12@adventu...|Mountain-100 Silv...|       1|  3399.99|271.9992|file:///C:/Users/...|2024-04-03 18:11:...|2024-04-03 18:11:...|\n",
      "|         SO43704|                   1|2019-07-01|    Julio Ruiz|julio1@adventure-...|Mountain-100 Blac...|       1|  3374.99|269.9992|file:///C:/Users/...|2024-04-03 18:11:...|2024-04-03 18:11:...|\n",
      "|         SO43705|                   1|2019-07-01|     Curtis Lu|curtis9@adventure...|Mountain-100 Silv...|       1|  3399.99|271.9992|file:///C:/Users/...|2024-04-03 18:11:...|2024-04-03 18:11:...|\n",
      "|         SO43700|                   1|2019-07-01|  Ruben Prasad|ruben10@adventure...|  Road-650 Black, 62|       1| 699.0982| 55.9279|file:///C:/Users/...|2024-04-03 18:11:...|2024-04-03 18:11:...|\n",
      "|         SO43703|                   1|2019-07-01|Albert Alvarez|albert7@adventure...|    Road-150 Red, 62|       1|  3578.27|286.2616|file:///C:/Users/...|2024-04-03 18:11:...|2024-04-03 18:11:...|\n",
      "+----------------+--------------------+----------+--------------+--------------------+--------------------+--------+---------+--------+--------------------+--------------------+--------------------+\n",
      "only showing top 5 rows\n",
      "\n"
     ]
    }
   ],
   "source": [
    "df.show(5)"
   ]
  },
  {
   "cell_type": "code",
   "execution_count": 38,
   "id": "8cb88f80-8e47-4064-83a2-75e1d5fe2d27",
   "metadata": {},
   "outputs": [
    {
     "name": "stdout",
     "output_type": "stream",
     "text": [
      "+----------------+--------------------+----------+--------------+--------------------+--------------------+--------+---------+--------+--------------------+--------------------+--------------------+\n",
      "|SalesOrderNumber|SalesOrderLineNumber| OrderDate|  CustomerName|               Email|                Item|Quantity|UnitPrice|     Tax|            FileName|           CreatedTS|          ModifiedTS|\n",
      "+----------------+--------------------+----------+--------------+--------------------+--------------------+--------+---------+--------+--------------------+--------------------+--------------------+\n",
      "|         SO43704|                   1|2019-07-01|    Julio Ruiz|julio1@adventure-...|Mountain-100 Blac...|       1|  3374.99|269.9992|file:///C:/Users/...|2024-04-03 18:11:...|2024-04-03 18:11:...|\n",
      "|         SO43705|                   1|2019-07-01|     Curtis Lu|curtis9@adventure...|Mountain-100 Silv...|       1|  3399.99|271.9992|file:///C:/Users/...|2024-04-03 18:11:...|2024-04-03 18:11:...|\n",
      "|         SO43700|                   1|2019-07-01|  Ruben Prasad|ruben10@adventure...|  Road-650 Black, 62|       1| 699.0982| 55.9279|file:///C:/Users/...|2024-04-03 18:11:...|2024-04-03 18:11:...|\n",
      "|         SO43703|                   1|2019-07-01|Albert Alvarez|albert7@adventure...|    Road-150 Red, 62|       1|  3578.27|286.2616|file:///C:/Users/...|2024-04-03 18:11:...|2024-04-03 18:11:...|\n",
      "|         SO43697|                   1|2019-07-01|   Cole Watson|cole1@adventure-w...|    Road-150 Red, 62|       1|  3578.27|286.2616|file:///C:/Users/...|2024-04-03 18:11:...|2024-04-03 18:11:...|\n",
      "+----------------+--------------------+----------+--------------+--------------------+--------------------+--------+---------+--------+--------------------+--------------------+--------------------+\n",
      "only showing top 5 rows\n",
      "\n"
     ]
    }
   ],
   "source": [
    "# Drop rows with null values in the \"age\" column\n",
    "df_filtered = df.filter(col(\"CustomerName\").isNotNull())\n",
    "\n",
    "# Show the resulting DataFrame\n",
    "df_filtered.show(5)\n"
   ]
  },
  {
   "cell_type": "markdown",
   "id": "4c8ac33d-2fbd-4131-abf5-fcb3935f2eb3",
   "metadata": {},
   "source": [
    "#### Handle missing values"
   ]
  },
  {
   "cell_type": "code",
   "execution_count": 39,
   "id": "80a7c6ee-4374-4b80-aa0a-adfef00c4538",
   "metadata": {},
   "outputs": [
    {
     "name": "stdout",
     "output_type": "stream",
     "text": [
      "+----------------+--------------------+----------+----------------+--------------------+--------------------+--------+---------+--------+--------------------+--------------------+--------------------+\n",
      "|SalesOrderNumber|SalesOrderLineNumber| OrderDate|    CustomerName|               Email|                Item|Quantity|UnitPrice|     Tax|            FileName|           CreatedTS|          ModifiedTS|\n",
      "+----------------+--------------------+----------+----------------+--------------------+--------------------+--------+---------+--------+--------------------+--------------------+--------------------+\n",
      "|         SO43701|                   1|2019-07-01|            null|christy12@adventu...|Mountain-100 Silv...|       1|  3399.99|271.9992|file:///C:/Users/...|2024-04-03 18:12:...|2024-04-03 18:12:...|\n",
      "|         SO43704|                   1|2019-07-01|      Julio Ruiz|julio1@adventure-...|Mountain-100 Blac...|       1|  3374.99|269.9992|file:///C:/Users/...|2024-04-03 18:12:...|2024-04-03 18:12:...|\n",
      "|         SO43705|                   1|2019-07-01|       Curtis Lu|curtis9@adventure...|Mountain-100 Silv...|       1|  3399.99|271.9992|file:///C:/Users/...|2024-04-03 18:12:...|2024-04-03 18:12:...|\n",
      "|         SO43700|                   1|2019-07-01|    Ruben Prasad|ruben10@adventure...|  Road-650 Black, 62|       1| 699.0982| 55.9279|file:///C:/Users/...|2024-04-03 18:12:...|2024-04-03 18:12:...|\n",
      "|         SO43703|                   1|2019-07-01|  Albert Alvarez|albert7@adventure...|    Road-150 Red, 62|       1|  3578.27|286.2616|file:///C:/Users/...|2024-04-03 18:12:...|2024-04-03 18:12:...|\n",
      "|         SO43697|                   1|2019-07-01|     Cole Watson|cole1@adventure-w...|    Road-150 Red, 62|       1|  3578.27|286.2616|file:///C:/Users/...|2024-04-03 18:12:...|2024-04-03 18:12:...|\n",
      "|         SO43699|                   1|2019-07-01|   Sydney Wright|sydney61@adventur...|Mountain-100 Silv...|       1|  3399.99|271.9992|file:///C:/Users/...|2024-04-03 18:12:...|2024-04-03 18:12:...|\n",
      "|         SO43702|                   1|2019-07-01|     Colin Anand|colin45@adventure...|    Road-150 Red, 44|       1|  3578.27|286.2616|file:///C:/Users/...|2024-04-03 18:12:...|2024-04-03 18:12:...|\n",
      "|         SO43698|                   1|2019-07-01|Rachael Martinez|rachael16@adventu...|Mountain-100 Silv...|       1|  3399.99|271.9992|file:///C:/Users/...|2024-04-03 18:12:...|2024-04-03 18:12:...|\n",
      "|         SO43707|                   1|2019-07-02|      Emma Brown|emma3@adventure-w...|    Road-150 Red, 48|       1|  3578.27|286.2616|file:///C:/Users/...|2024-04-03 18:12:...|2024-04-03 18:12:...|\n",
      "+----------------+--------------------+----------+----------------+--------------------+--------------------+--------+---------+--------+--------------------+--------------------+--------------------+\n",
      "only showing top 10 rows\n",
      "\n"
     ]
    }
   ],
   "source": [
    "df_pyspark = df\n",
    "df_pyspark.show(10)"
   ]
  },
  {
   "cell_type": "markdown",
   "id": "f48f533f-ca9a-4245-84ca-c596cf1ca393",
   "metadata": {},
   "source": [
    "#### Remove null value"
   ]
  },
  {
   "cell_type": "code",
   "execution_count": 40,
   "id": "7148399e-4571-47e3-a7f3-00455be7a380",
   "metadata": {},
   "outputs": [
    {
     "name": "stdout",
     "output_type": "stream",
     "text": [
      "+----------------+--------------------+----------+----------------+--------------------+--------------------+--------+---------+--------+--------------------+--------------------+--------------------+\n",
      "|SalesOrderNumber|SalesOrderLineNumber| OrderDate|    CustomerName|               Email|                Item|Quantity|UnitPrice|     Tax|            FileName|           CreatedTS|          ModifiedTS|\n",
      "+----------------+--------------------+----------+----------------+--------------------+--------------------+--------+---------+--------+--------------------+--------------------+--------------------+\n",
      "|         SO43704|                   1|2019-07-01|      Julio Ruiz|julio1@adventure-...|Mountain-100 Blac...|       1|  3374.99|269.9992|file:///C:/Users/...|2024-04-03 18:13:...|2024-04-03 18:13:...|\n",
      "|         SO43705|                   1|2019-07-01|       Curtis Lu|curtis9@adventure...|Mountain-100 Silv...|       1|  3399.99|271.9992|file:///C:/Users/...|2024-04-03 18:13:...|2024-04-03 18:13:...|\n",
      "|         SO43700|                   1|2019-07-01|    Ruben Prasad|ruben10@adventure...|  Road-650 Black, 62|       1| 699.0982| 55.9279|file:///C:/Users/...|2024-04-03 18:13:...|2024-04-03 18:13:...|\n",
      "|         SO43703|                   1|2019-07-01|  Albert Alvarez|albert7@adventure...|    Road-150 Red, 62|       1|  3578.27|286.2616|file:///C:/Users/...|2024-04-03 18:13:...|2024-04-03 18:13:...|\n",
      "|         SO43697|                   1|2019-07-01|     Cole Watson|cole1@adventure-w...|    Road-150 Red, 62|       1|  3578.27|286.2616|file:///C:/Users/...|2024-04-03 18:13:...|2024-04-03 18:13:...|\n",
      "|         SO43699|                   1|2019-07-01|   Sydney Wright|sydney61@adventur...|Mountain-100 Silv...|       1|  3399.99|271.9992|file:///C:/Users/...|2024-04-03 18:13:...|2024-04-03 18:13:...|\n",
      "|         SO43702|                   1|2019-07-01|     Colin Anand|colin45@adventure...|    Road-150 Red, 44|       1|  3578.27|286.2616|file:///C:/Users/...|2024-04-03 18:13:...|2024-04-03 18:13:...|\n",
      "|         SO43698|                   1|2019-07-01|Rachael Martinez|rachael16@adventu...|Mountain-100 Silv...|       1|  3399.99|271.9992|file:///C:/Users/...|2024-04-03 18:13:...|2024-04-03 18:13:...|\n",
      "|         SO43707|                   1|2019-07-02|      Emma Brown|emma3@adventure-w...|    Road-150 Red, 48|       1|  3578.27|286.2616|file:///C:/Users/...|2024-04-03 18:13:...|2024-04-03 18:13:...|\n",
      "|         SO43711|                   1|2019-07-02|Courtney Edwards|courtney1@adventu...|    Road-150 Red, 56|       1|  3578.27|286.2616|file:///C:/Users/...|2024-04-03 18:13:...|2024-04-03 18:13:...|\n",
      "+----------------+--------------------+----------+----------------+--------------------+--------------------+--------+---------+--------+--------------------+--------------------+--------------------+\n",
      "only showing top 10 rows\n",
      "\n"
     ]
    }
   ],
   "source": [
    "df_pyspark.na.drop().show(10)"
   ]
  },
  {
   "cell_type": "markdown",
   "id": "6d947fb6-49b2-4c8d-87c2-03f453838ebe",
   "metadata": {},
   "source": [
    "#### Filling null values"
   ]
  },
  {
   "cell_type": "code",
   "execution_count": 41,
   "id": "ac9a83ec-c87f-4277-8d4a-9c7ccdfc75bd",
   "metadata": {},
   "outputs": [
    {
     "name": "stdout",
     "output_type": "stream",
     "text": [
      "+----------------+--------------------+----------+----------------+--------------------+--------------------+--------+---------+--------+--------------------+--------------------+--------------------+\n",
      "|SalesOrderNumber|SalesOrderLineNumber| OrderDate|    CustomerName|               Email|                Item|Quantity|UnitPrice|     Tax|            FileName|           CreatedTS|          ModifiedTS|\n",
      "+----------------+--------------------+----------+----------------+--------------------+--------------------+--------+---------+--------+--------------------+--------------------+--------------------+\n",
      "|         SO43701|                   1|2019-07-01|         Missing|christy12@adventu...|Mountain-100 Silv...|       1|  3399.99|271.9992|file:///C:/Users/...|2024-04-03 18:14:...|2024-04-03 18:14:...|\n",
      "|         SO43704|                   1|2019-07-01|      Julio Ruiz|julio1@adventure-...|Mountain-100 Blac...|       1|  3374.99|269.9992|file:///C:/Users/...|2024-04-03 18:14:...|2024-04-03 18:14:...|\n",
      "|         SO43705|                   1|2019-07-01|       Curtis Lu|curtis9@adventure...|Mountain-100 Silv...|       1|  3399.99|271.9992|file:///C:/Users/...|2024-04-03 18:14:...|2024-04-03 18:14:...|\n",
      "|         SO43700|                   1|2019-07-01|    Ruben Prasad|ruben10@adventure...|  Road-650 Black, 62|       1| 699.0982| 55.9279|file:///C:/Users/...|2024-04-03 18:14:...|2024-04-03 18:14:...|\n",
      "|         SO43703|                   1|2019-07-01|  Albert Alvarez|albert7@adventure...|    Road-150 Red, 62|       1|  3578.27|286.2616|file:///C:/Users/...|2024-04-03 18:14:...|2024-04-03 18:14:...|\n",
      "|         SO43697|                   1|2019-07-01|     Cole Watson|cole1@adventure-w...|    Road-150 Red, 62|       1|  3578.27|286.2616|file:///C:/Users/...|2024-04-03 18:14:...|2024-04-03 18:14:...|\n",
      "|         SO43699|                   1|2019-07-01|   Sydney Wright|sydney61@adventur...|Mountain-100 Silv...|       1|  3399.99|271.9992|file:///C:/Users/...|2024-04-03 18:14:...|2024-04-03 18:14:...|\n",
      "|         SO43702|                   1|2019-07-01|     Colin Anand|colin45@adventure...|    Road-150 Red, 44|       1|  3578.27|286.2616|file:///C:/Users/...|2024-04-03 18:14:...|2024-04-03 18:14:...|\n",
      "|         SO43698|                   1|2019-07-01|Rachael Martinez|rachael16@adventu...|Mountain-100 Silv...|       1|  3399.99|271.9992|file:///C:/Users/...|2024-04-03 18:14:...|2024-04-03 18:14:...|\n",
      "|         SO43707|                   1|2019-07-02|      Emma Brown|emma3@adventure-w...|    Road-150 Red, 48|       1|  3578.27|286.2616|file:///C:/Users/...|2024-04-03 18:14:...|2024-04-03 18:14:...|\n",
      "|         SO43711|                   1|2019-07-02|Courtney Edwards|courtney1@adventu...|    Road-150 Red, 56|       1|  3578.27|286.2616|file:///C:/Users/...|2024-04-03 18:14:...|2024-04-03 18:14:...|\n",
      "|         SO43706|                   1|2019-07-02|    Edward Brown|edward26@adventur...|    Road-150 Red, 48|       1|  3578.27|286.2616|file:///C:/Users/...|2024-04-03 18:14:...|2024-04-03 18:14:...|\n",
      "|         SO43708|                   1|2019-07-02|       Brad Deng|brad2@adventure-w...|    Road-650 Red, 52|       1| 699.0982| 55.9279|file:///C:/Users/...|2024-04-03 18:14:...|2024-04-03 18:14:...|\n",
      "|         SO43709|                   1|2019-07-02|       Martha Xu|martha12@adventur...|    Road-150 Red, 52|       1|  3578.27|286.2616|file:///C:/Users/...|2024-04-03 18:14:...|2024-04-03 18:14:...|\n",
      "|         SO43710|                   1|2019-07-02|         Missing|katrina20@adventu...|    Road-150 Red, 56|       1|  3578.27|286.2616|file:///C:/Users/...|2024-04-03 18:14:...|2024-04-03 18:14:...|\n",
      "|         SO43712|                   1|2019-07-02|            null|abigail73@adventu...|    Road-150 Red, 44|       1|  3578.27|286.2616|file:///C:/Users/...|2024-04-03 18:14:...|2024-04-03 18:14:...|\n",
      "|         SO43720|                   1|2019-07-03| Melanie Sanchez|melanie47@adventu...|    Road-150 Red, 44|       1|  3578.27|286.2616|file:///C:/Users/...|2024-04-03 18:14:...|2024-04-03 18:14:...|\n",
      "|         SO43721|                   1|2019-07-03|       Louis Xie|louis20@adventure...|    Road-150 Red, 62|       1|  3578.27|286.2616|file:///C:/Users/...|2024-04-03 18:14:...|2024-04-03 18:14:...|\n",
      "|         SO43714|                   1|2019-07-03|  Latasha Alonso|latasha8@adventur...|    Road-150 Red, 44|       1|  3578.27|286.2616|file:///C:/Users/...|2024-04-03 18:14:...|2024-04-03 18:14:...|\n",
      "|         SO43715|                   1|2019-07-03|      Warren Jai|warren42@adventur...|    Road-150 Red, 56|       1|  3578.27|286.2616|file:///C:/Users/...|2024-04-03 18:14:...|2024-04-03 18:14:...|\n",
      "+----------------+--------------------+----------+----------------+--------------------+--------------------+--------+---------+--------+--------------------+--------------------+--------------------+\n",
      "only showing top 20 rows\n",
      "\n"
     ]
    }
   ],
   "source": [
    "df_pyspark.na.fill(\"Missing\").show()"
   ]
  },
  {
   "cell_type": "markdown",
   "id": "08924117-e7f2-465d-a171-be8dbcf779d3",
   "metadata": {},
   "source": [
    "### USING SQL"
   ]
  },
  {
   "cell_type": "code",
   "execution_count": 42,
   "id": "a105196e-098d-4c4b-a6e5-d1e9919923eb",
   "metadata": {},
   "outputs": [
    {
     "name": "stdout",
     "output_type": "stream",
     "text": [
      "+----------------+--------------------+----------+----------------+--------------------+--------------------+--------+---------+--------+--------------------+--------------------+--------------------+\n",
      "|SalesOrderNumber|SalesOrderLineNumber| OrderDate|    CustomerName|               Email|                Item|Quantity|UnitPrice|     Tax|            FileName|           CreatedTS|          ModifiedTS|\n",
      "+----------------+--------------------+----------+----------------+--------------------+--------------------+--------+---------+--------+--------------------+--------------------+--------------------+\n",
      "|         SO43701|                   1|2019-07-01|            null|christy12@adventu...|Mountain-100 Silv...|       1|  3399.99|271.9992|file:///C:/Users/...|2024-04-03 18:16:...|2024-04-03 18:16:...|\n",
      "|         SO43704|                   1|2019-07-01|      Julio Ruiz|julio1@adventure-...|Mountain-100 Blac...|       1|  3374.99|269.9992|file:///C:/Users/...|2024-04-03 18:16:...|2024-04-03 18:16:...|\n",
      "|         SO43705|                   1|2019-07-01|       Curtis Lu|curtis9@adventure...|Mountain-100 Silv...|       1|  3399.99|271.9992|file:///C:/Users/...|2024-04-03 18:16:...|2024-04-03 18:16:...|\n",
      "|         SO43700|                   1|2019-07-01|    Ruben Prasad|ruben10@adventure...|  Road-650 Black, 62|       1| 699.0982| 55.9279|file:///C:/Users/...|2024-04-03 18:16:...|2024-04-03 18:16:...|\n",
      "|         SO43703|                   1|2019-07-01|  Albert Alvarez|albert7@adventure...|    Road-150 Red, 62|       1|  3578.27|286.2616|file:///C:/Users/...|2024-04-03 18:16:...|2024-04-03 18:16:...|\n",
      "|         SO43697|                   1|2019-07-01|     Cole Watson|cole1@adventure-w...|    Road-150 Red, 62|       1|  3578.27|286.2616|file:///C:/Users/...|2024-04-03 18:16:...|2024-04-03 18:16:...|\n",
      "|         SO43699|                   1|2019-07-01|   Sydney Wright|sydney61@adventur...|Mountain-100 Silv...|       1|  3399.99|271.9992|file:///C:/Users/...|2024-04-03 18:16:...|2024-04-03 18:16:...|\n",
      "|         SO43702|                   1|2019-07-01|     Colin Anand|colin45@adventure...|    Road-150 Red, 44|       1|  3578.27|286.2616|file:///C:/Users/...|2024-04-03 18:16:...|2024-04-03 18:16:...|\n",
      "|         SO43698|                   1|2019-07-01|Rachael Martinez|rachael16@adventu...|Mountain-100 Silv...|       1|  3399.99|271.9992|file:///C:/Users/...|2024-04-03 18:16:...|2024-04-03 18:16:...|\n",
      "|         SO43707|                   1|2019-07-02|      Emma Brown|emma3@adventure-w...|    Road-150 Red, 48|       1|  3578.27|286.2616|file:///C:/Users/...|2024-04-03 18:16:...|2024-04-03 18:16:...|\n",
      "+----------------+--------------------+----------+----------------+--------------------+--------------------+--------+---------+--------+--------------------+--------------------+--------------------+\n",
      "only showing top 10 rows\n",
      "\n"
     ]
    }
   ],
   "source": [
    "df.show(10)"
   ]
  },
  {
   "cell_type": "code",
   "execution_count": 43,
   "id": "edfd2fb7-67a6-4038-895a-09ddc3874a19",
   "metadata": {},
   "outputs": [],
   "source": [
    "## Assuming you have a PySpark DataFrame named \"df\"\n",
    "df.createOrReplaceTempView(\"customerdata\")"
   ]
  },
  {
   "cell_type": "code",
   "execution_count": 44,
   "id": "b69a1875-64a0-4fe3-9544-f395b2074dc7",
   "metadata": {},
   "outputs": [
    {
     "name": "stdout",
     "output_type": "stream",
     "text": [
      "+----------------+--------------------+----------+--------------+--------------------+--------------------+--------+---------+--------+--------------------+--------------------+--------------------+\n",
      "|SalesOrderNumber|SalesOrderLineNumber| OrderDate|  CustomerName|               Email|                Item|Quantity|UnitPrice|     Tax|            FileName|           CreatedTS|          ModifiedTS|\n",
      "+----------------+--------------------+----------+--------------+--------------------+--------------------+--------+---------+--------+--------------------+--------------------+--------------------+\n",
      "|         SO43701|                   1|2019-07-01|          null|christy12@adventu...|Mountain-100 Silv...|       1|  3399.99|271.9992|file:///C:/Users/...|2024-04-03 18:17:...|2024-04-03 18:17:...|\n",
      "|         SO43704|                   1|2019-07-01|    Julio Ruiz|julio1@adventure-...|Mountain-100 Blac...|       1|  3374.99|269.9992|file:///C:/Users/...|2024-04-03 18:17:...|2024-04-03 18:17:...|\n",
      "|         SO43705|                   1|2019-07-01|     Curtis Lu|curtis9@adventure...|Mountain-100 Silv...|       1|  3399.99|271.9992|file:///C:/Users/...|2024-04-03 18:17:...|2024-04-03 18:17:...|\n",
      "|         SO43700|                   1|2019-07-01|  Ruben Prasad|ruben10@adventure...|  Road-650 Black, 62|       1| 699.0982| 55.9279|file:///C:/Users/...|2024-04-03 18:17:...|2024-04-03 18:17:...|\n",
      "|         SO43703|                   1|2019-07-01|Albert Alvarez|albert7@adventure...|    Road-150 Red, 62|       1|  3578.27|286.2616|file:///C:/Users/...|2024-04-03 18:17:...|2024-04-03 18:17:...|\n",
      "+----------------+--------------------+----------+--------------+--------------------+--------------------+--------+---------+--------+--------------------+--------------------+--------------------+\n",
      "only showing top 5 rows\n",
      "\n"
     ]
    }
   ],
   "source": [
    "# SQL Select query\n",
    "spark.sql(\"SELECT *  FROM customerdata\").show(5)"
   ]
  },
  {
   "cell_type": "markdown",
   "id": "171956a0-6ca8-40f0-970f-376c8173ad37",
   "metadata": {},
   "source": [
    "##### FULL COMPARISON"
   ]
  },
  {
   "cell_type": "code",
   "execution_count": 45,
   "id": "0d7504f6-fee6-49ef-b387-bb71d7163e60",
   "metadata": {},
   "outputs": [],
   "source": [
    "# Import\n",
    "from pyspark.sql import SparkSession\n",
    "\n",
    "# Create SparkSession\n",
    "spark = SparkSession.builder.appName('SparkByExamples.com').getOrCreate()\n"
   ]
  },
  {
   "cell_type": "code",
   "execution_count": 46,
   "id": "396ffb9f-3c03-46c7-818b-b81ce7ee313f",
   "metadata": {},
   "outputs": [
    {
     "name": "stdout",
     "output_type": "stream",
     "text": [
      "root\n",
      " |-- RecordNumber: string (nullable = true)\n",
      " |-- Country: string (nullable = true)\n",
      " |-- City: string (nullable = true)\n",
      " |-- Zipcode: string (nullable = true)\n",
      " |-- State: string (nullable = true)\n",
      "\n",
      "+------------+-------+-------------------+-------+-----+\n",
      "|RecordNumber|Country|               City|Zipcode|State|\n",
      "+------------+-------+-------------------+-------+-----+\n",
      "|           1|     US|        PARC PARQUE|    704|   PR|\n",
      "|           2|     US|PASEO COSTA DEL SUR|    704|   PR|\n",
      "|          10|     US|       BDA SAN LUIS|    709|   PR|\n",
      "|       49347|     US|               HOLT|  32564|   FL|\n",
      "|       49348|     US|          HOMOSASSA|  34487|   FL|\n",
      "|       61391|     US|  CINGULAR WIRELESS|  76166|   TX|\n",
      "|       61392|     US|         FORT WORTH|  76177|   TX|\n",
      "|       61393|     US|           FT WORTH|  76177|   TX|\n",
      "|       54356|     US|        SPRUCE PINE|  35585|   AL|\n",
      "|       76511|     US|           ASH HILL|  27007|   NC|\n",
      "|           4|     US|    URB EUGENE RICE|    704|   PR|\n",
      "|       39827|     US|               MESA|  85209|   AZ|\n",
      "|       39828|     US|               MESA|  85210|   AZ|\n",
      "|       49345|     US|           HILLIARD|  32046|   FL|\n",
      "|       49346|     US|             HOLDER|  34445|   FL|\n",
      "|           3|     US|      SECT LANAUSSE|    704|   PR|\n",
      "|       54354|     US|      SPRING GARDEN|  36275|   AL|\n",
      "|       54355|     US|        SPRINGVILLE|  35146|   AL|\n",
      "|       76512|     US|           ASHEBORO|  27203|   NC|\n",
      "|       76513|     US|           ASHEBORO|  27204|   NC|\n",
      "+------------+-------+-------------------+-------+-----+\n",
      "\n"
     ]
    }
   ],
   "source": [
    "                  \n",
    "# Create DataFrame\n",
    "df = spark.read \\\n",
    "          .option(\"header\",True) \\\n",
    "          .csv(\"./simple-zipcodes.csv\")\n",
    "df.printSchema()\n",
    "df.show()\n"
   ]
  },
  {
   "cell_type": "code",
   "execution_count": 47,
   "id": "62012860-166e-4ca7-8148-fe58824510f6",
   "metadata": {},
   "outputs": [],
   "source": [
    "# Create SQL table\n",
    "spark.read \\\n",
    "          .option(\"header\",True) \\\n",
    "          .csv(\"./simple-zipcodes.csv\") \\\n",
    "          .createOrReplaceTempView(\"Zipcodes\")\n"
   ]
  },
  {
   "cell_type": "code",
   "execution_count": 48,
   "id": "7732e6ff-7735-47b7-a3cd-c06581cdc7a3",
   "metadata": {},
   "outputs": [
    {
     "name": "stdout",
     "output_type": "stream",
     "text": [
      "+-------+-------------------+-------+-----+\n",
      "|country|               city|zipcode|state|\n",
      "+-------+-------------------+-------+-----+\n",
      "|     US|        PARC PARQUE|    704|   PR|\n",
      "|     US|PASEO COSTA DEL SUR|    704|   PR|\n",
      "|     US|       BDA SAN LUIS|    709|   PR|\n",
      "|     US|               HOLT|  32564|   FL|\n",
      "|     US|          HOMOSASSA|  34487|   FL|\n",
      "+-------+-------------------+-------+-----+\n",
      "only showing top 5 rows\n",
      "\n",
      "+-------+-------------------+-------+-----+\n",
      "|country|               city|zipcode|state|\n",
      "+-------+-------------------+-------+-----+\n",
      "|     US|        PARC PARQUE|    704|   PR|\n",
      "|     US|PASEO COSTA DEL SUR|    704|   PR|\n",
      "|     US|       BDA SAN LUIS|    709|   PR|\n",
      "|     US|               HOLT|  32564|   FL|\n",
      "|     US|          HOMOSASSA|  34487|   FL|\n",
      "+-------+-------------------+-------+-----+\n",
      "only showing top 5 rows\n",
      "\n"
     ]
    }
   ],
   "source": [
    "# Select query\n",
    "df.select(\"country\",\"city\",\"zipcode\",\"state\").show(5)\n",
    "\n",
    "spark.sql(\"SELECT country, city, zipcode, state FROM ZIPCODES\").show(5)\n",
    "     "
   ]
  },
  {
   "cell_type": "code",
   "execution_count": 49,
   "id": "95d4dfc2-a1b9-48a8-a38c-0cbdb193fb26",
   "metadata": {},
   "outputs": [
    {
     "name": "stdout",
     "output_type": "stream",
     "text": [
      "+-------+----+-------+-----+\n",
      "|country|city|zipcode|state|\n",
      "+-------+----+-------+-----+\n",
      "|     US|MESA|  85209|   AZ|\n",
      "|     US|MESA|  85210|   AZ|\n",
      "+-------+----+-------+-----+\n",
      "\n",
      "+-------+----+-------+-----+\n",
      "|country|city|zipcode|state|\n",
      "+-------+----+-------+-----+\n",
      "|     US|MESA|  85209|   AZ|\n",
      "|     US|MESA|  85210|   AZ|\n",
      "+-------+----+-------+-----+\n",
      "\n"
     ]
    }
   ],
   "source": [
    "# where\n",
    "df.select(\"country\",\"city\",\"zipcode\",\"state\") \\\n",
    "  .where(\"state == 'AZ'\") \\\n",
    "  .show(5)\n",
    "\n",
    "spark.sql(\"\"\" SELECT country, city, zipcode, state FROM ZIPCODES \n",
    "          WHERE state = 'AZ' \"\"\") \\\n",
    "     .show(5)"
   ]
  },
  {
   "cell_type": "code",
   "execution_count": 50,
   "id": "cce57797-5acf-4726-b95b-6d141dabe20c",
   "metadata": {},
   "outputs": [
    {
     "name": "stdout",
     "output_type": "stream",
     "text": [
      "+-------+-------------------+-------+-----+\n",
      "|country|               city|zipcode|state|\n",
      "+-------+-------------------+-------+-----+\n",
      "|     US|               MESA|  85209|   AZ|\n",
      "|     US|               MESA|  85210|   AZ|\n",
      "|     US|               HOLT|  32564|   FL|\n",
      "|     US|          HOMOSASSA|  34487|   FL|\n",
      "|     US|           HILLIARD|  32046|   FL|\n",
      "|     US|             HOLDER|  34445|   FL|\n",
      "|     US|        PARC PARQUE|    704|   PR|\n",
      "|     US|PASEO COSTA DEL SUR|    704|   PR|\n",
      "|     US|       BDA SAN LUIS|    709|   PR|\n",
      "|     US|    URB EUGENE RICE|    704|   PR|\n",
      "+-------+-------------------+-------+-----+\n",
      "only showing top 10 rows\n",
      "\n",
      "+-------+-------------------+-------+-----+\n",
      "|country|               city|zipcode|state|\n",
      "+-------+-------------------+-------+-----+\n",
      "|     US|               MESA|  85209|   AZ|\n",
      "|     US|               MESA|  85210|   AZ|\n",
      "|     US|               HOLT|  32564|   FL|\n",
      "|     US|          HOMOSASSA|  34487|   FL|\n",
      "|     US|           HILLIARD|  32046|   FL|\n",
      "|     US|             HOLDER|  34445|   FL|\n",
      "|     US|        PARC PARQUE|    704|   PR|\n",
      "|     US|PASEO COSTA DEL SUR|    704|   PR|\n",
      "|     US|       BDA SAN LUIS|    709|   PR|\n",
      "|     US|    URB EUGENE RICE|    704|   PR|\n",
      "+-------+-------------------+-------+-----+\n",
      "only showing top 10 rows\n",
      "\n"
     ]
    }
   ],
   "source": [
    "# sorting\n",
    "df.select(\"country\",\"city\",\"zipcode\",\"state\") \\\n",
    "  .where(\"state in ('PR','AZ','FL')\") \\\n",
    "  .orderBy(\"state\") \\\n",
    "  .show(10)\n",
    "  \n",
    "spark.sql(\"\"\" SELECT  country, city, zipcode, state FROM ZIPCODES \n",
    "          WHERE state in ('PR','AZ','FL') order by state \"\"\") \\\n",
    "     .show(10)"
   ]
  },
  {
   "cell_type": "code",
   "execution_count": 51,
   "id": "757aa2c9-4fb0-4204-9a0f-0970805a7e86",
   "metadata": {},
   "outputs": [
    {
     "name": "stdout",
     "output_type": "stream",
     "text": [
      "+-----+-----+\n",
      "|state|count|\n",
      "+-----+-----+\n",
      "|   AZ|    2|\n",
      "|   NC|    3|\n",
      "|   AL|    3|\n",
      "|   TX|    3|\n",
      "|   FL|    4|\n",
      "|   PR|    5|\n",
      "+-----+-----+\n",
      "\n",
      "+-----+-----+\n",
      "|state|count|\n",
      "+-----+-----+\n",
      "|   AZ|    2|\n",
      "|   NC|    3|\n",
      "|   AL|    3|\n",
      "|   TX|    3|\n",
      "|   FL|    4|\n",
      "|   PR|    5|\n",
      "+-----+-----+\n",
      "\n"
     ]
    }
   ],
   "source": [
    "# grouping\n",
    "df.groupBy(\"state\").count() \\\n",
    "  .show()\n",
    "\n",
    "spark.sql(\"\"\" SELECT state, count(*) as count FROM ZIPCODES \n",
    "          GROUP BY state\"\"\") \\\n",
    "     .show()"
   ]
  },
  {
   "cell_type": "markdown",
   "id": "c7962abb-b479-49d7-804a-66636ca59fda",
   "metadata": {},
   "source": [
    "### Query catalog"
   ]
  },
  {
   "cell_type": "code",
   "execution_count": 52,
   "id": "40d71606-9084-4c5d-9904-e7165ddf1886",
   "metadata": {},
   "outputs": [
    {
     "data": {
      "text/plain": [
       "'spark_catalog'"
      ]
     },
     "execution_count": 52,
     "metadata": {},
     "output_type": "execute_result"
    }
   ],
   "source": [
    "spark.catalog.currentCatalog()"
   ]
  },
  {
   "cell_type": "code",
   "execution_count": 53,
   "id": "c76409bf-3ded-43c0-b1ff-3fc2f96ca8ab",
   "metadata": {},
   "outputs": [
    {
     "data": {
      "text/plain": [
       "'default'"
      ]
     },
     "execution_count": 53,
     "metadata": {},
     "output_type": "execute_result"
    }
   ],
   "source": [
    "spark.catalog.currentDatabase()"
   ]
  },
  {
   "cell_type": "code",
   "execution_count": 54,
   "id": "840274f5-200c-4d15-b144-88b341c46627",
   "metadata": {},
   "outputs": [
    {
     "data": {
      "text/plain": [
       "[CatalogMetadata(name='spark_catalog', description=None)]"
      ]
     },
     "execution_count": 54,
     "metadata": {},
     "output_type": "execute_result"
    }
   ],
   "source": [
    "spark.catalog.listCatalogs()"
   ]
  },
  {
   "cell_type": "code",
   "execution_count": 55,
   "id": "05173246-4c57-417b-aa2a-b4017e060c39",
   "metadata": {},
   "outputs": [
    {
     "data": {
      "text/plain": [
       "[Database(name='default', catalog='spark_catalog', description='default database', locationUri='file:/C:/Users/gdardia/data/spark-warehouse')]"
      ]
     },
     "execution_count": 55,
     "metadata": {},
     "output_type": "execute_result"
    }
   ],
   "source": [
    "spark.catalog.listDatabases()"
   ]
  },
  {
   "cell_type": "code",
   "execution_count": 56,
   "id": "0aafa069-9ac6-4ba5-a342-48a4cc037c3e",
   "metadata": {},
   "outputs": [
    {
     "data": {
      "text/plain": [
       "[Table(name='customerdata', catalog=None, namespace=[], description=None, tableType='TEMPORARY', isTemporary=True),\n",
       " Table(name='Zipcodes', catalog=None, namespace=[], description=None, tableType='TEMPORARY', isTemporary=True)]"
      ]
     },
     "execution_count": 56,
     "metadata": {},
     "output_type": "execute_result"
    }
   ],
   "source": [
    "spark.catalog.listTables(\"default\")"
   ]
  },
  {
   "cell_type": "markdown",
   "id": "2b6b4d22-6d79-4b3e-8e35-a6c95136f52f",
   "metadata": {},
   "source": [
    "### WRITING DATA"
   ]
  },
  {
   "cell_type": "code",
   "execution_count": null,
   "id": "4bc9534e-929f-4ca8-bc58-0475ad57a174",
   "metadata": {},
   "outputs": [],
   "source": [
    "# Write the DataFrame to a CSV file\n",
    "#output_path = \"2019_revised.csv\"\n",
    "\n",
    "import sys\n",
    "import os\n",
    "\n",
    "#os.environ['HADOOP_HOME'] = \"C:/Mine/Spark/hadoop-2.6.0\"\n",
    "#sys.path.append(\"C:/Mine/Spark/hadoop-2.6.0/bin\")\n",
    "\n",
    "\n",
    "df=dfpostalcodes\n",
    "\n",
    "df.write.csv('./output.csv')\n",
    "\n",
    "#df.write.format(\"csv\").mode(\"append\").save(\"./mycsv/mycsv.csv\")\n",
    "\n",
    "\n"
   ]
  },
  {
   "cell_type": "code",
   "execution_count": null,
   "id": "0fab427b-8fa3-4d80-9b64-05286c37d585",
   "metadata": {},
   "outputs": [],
   "source": [
    "df.write.format(\"csv\").mode(\"append\").save(\"./mycsv/mycsv.csv\")"
   ]
  },
  {
   "cell_type": "code",
   "execution_count": null,
   "id": "acb8a708-080e-46e9-928a-7c43051b04c6",
   "metadata": {},
   "outputs": [],
   "source": []
  }
 ],
 "metadata": {
  "kernelspec": {
   "display_name": "Python 3 (ipykernel)",
   "language": "python",
   "name": "python3"
  },
  "language_info": {
   "codemirror_mode": {
    "name": "ipython",
    "version": 3
   },
   "file_extension": ".py",
   "mimetype": "text/x-python",
   "name": "python",
   "nbconvert_exporter": "python",
   "pygments_lexer": "ipython3",
   "version": "3.11.7"
  }
 },
 "nbformat": 4,
 "nbformat_minor": 5
}
