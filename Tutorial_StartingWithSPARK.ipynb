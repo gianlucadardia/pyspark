{
  "cells": [
    {
      "cell_type": "markdown",
      "id": "cca58d3f-d38b-4306-9766-314219253944",
      "metadata": {
        "id": "cca58d3f-d38b-4306-9766-314219253944"
      },
      "source": [
        "### Create Spark session"
      ]
    },
    {
      "cell_type": "code",
      "execution_count": 1,
      "id": "c9dfeda4-8dc6-4a4f-876e-481c083e0ffc",
      "metadata": {
        "id": "c9dfeda4-8dc6-4a4f-876e-481c083e0ffc",
        "colab": {
          "base_uri": "https://localhost:8080/"
        },
        "collapsed": true,
        "outputId": "5b5c2f56-1f05-4da5-8c3c-705521b9c2b7"
      },
      "outputs": [
        {
          "output_type": "stream",
          "name": "stdout",
          "text": [
            "Requirement already satisfied: pyspark in /usr/local/lib/python3.11/dist-packages (3.5.1)\n",
            "Requirement already satisfied: py4j==0.10.9.7 in /usr/local/lib/python3.11/dist-packages (from pyspark) (0.10.9.7)\n",
            "Collecting azure.storage.blob\n",
            "  Downloading azure_storage_blob-12.25.1-py3-none-any.whl.metadata (26 kB)\n",
            "Collecting azure-core>=1.30.0 (from azure.storage.blob)\n",
            "  Downloading azure_core-1.35.0-py3-none-any.whl.metadata (44 kB)\n",
            "\u001b[2K     \u001b[90m━━━━━━━━━━━━━━━━━━━━━━━━━━━━━━━━━━━━━━━━\u001b[0m \u001b[32m44.4/44.4 kB\u001b[0m \u001b[31m1.7 MB/s\u001b[0m eta \u001b[36m0:00:00\u001b[0m\n",
            "\u001b[?25hRequirement already satisfied: cryptography>=2.1.4 in /usr/local/lib/python3.11/dist-packages (from azure.storage.blob) (43.0.3)\n",
            "Requirement already satisfied: typing-extensions>=4.6.0 in /usr/local/lib/python3.11/dist-packages (from azure.storage.blob) (4.14.0)\n",
            "Collecting isodate>=0.6.1 (from azure.storage.blob)\n",
            "  Downloading isodate-0.7.2-py3-none-any.whl.metadata (11 kB)\n",
            "Requirement already satisfied: requests>=2.21.0 in /usr/local/lib/python3.11/dist-packages (from azure-core>=1.30.0->azure.storage.blob) (2.32.3)\n",
            "Requirement already satisfied: six>=1.11.0 in /usr/local/lib/python3.11/dist-packages (from azure-core>=1.30.0->azure.storage.blob) (1.17.0)\n",
            "Requirement already satisfied: cffi>=1.12 in /usr/local/lib/python3.11/dist-packages (from cryptography>=2.1.4->azure.storage.blob) (1.17.1)\n",
            "Requirement already satisfied: pycparser in /usr/local/lib/python3.11/dist-packages (from cffi>=1.12->cryptography>=2.1.4->azure.storage.blob) (2.22)\n",
            "Requirement already satisfied: charset-normalizer<4,>=2 in /usr/local/lib/python3.11/dist-packages (from requests>=2.21.0->azure-core>=1.30.0->azure.storage.blob) (3.4.2)\n",
            "Requirement already satisfied: idna<4,>=2.5 in /usr/local/lib/python3.11/dist-packages (from requests>=2.21.0->azure-core>=1.30.0->azure.storage.blob) (3.10)\n",
            "Requirement already satisfied: urllib3<3,>=1.21.1 in /usr/local/lib/python3.11/dist-packages (from requests>=2.21.0->azure-core>=1.30.0->azure.storage.blob) (2.4.0)\n",
            "Requirement already satisfied: certifi>=2017.4.17 in /usr/local/lib/python3.11/dist-packages (from requests>=2.21.0->azure-core>=1.30.0->azure.storage.blob) (2025.6.15)\n",
            "Downloading azure_storage_blob-12.25.1-py3-none-any.whl (406 kB)\n",
            "\u001b[2K   \u001b[90m━━━━━━━━━━━━━━━━━━━━━━━━━━━━━━━━━━━━━━━━\u001b[0m \u001b[32m407.0/407.0 kB\u001b[0m \u001b[31m9.2 MB/s\u001b[0m eta \u001b[36m0:00:00\u001b[0m\n",
            "\u001b[?25hDownloading azure_core-1.35.0-py3-none-any.whl (210 kB)\n",
            "\u001b[2K   \u001b[90m━━━━━━━━━━━━━━━━━━━━━━━━━━━━━━━━━━━━━━━━\u001b[0m \u001b[32m210.7/210.7 kB\u001b[0m \u001b[31m13.6 MB/s\u001b[0m eta \u001b[36m0:00:00\u001b[0m\n",
            "\u001b[?25hDownloading isodate-0.7.2-py3-none-any.whl (22 kB)\n",
            "Installing collected packages: isodate, azure-core, azure.storage.blob\n",
            "Successfully installed azure-core-1.35.0 azure.storage.blob-12.25.1 isodate-0.7.2\n"
          ]
        }
      ],
      "source": [
        "!pip install pyspark\n",
        "! pip install azure.storage.blob\n",
        "from pyspark.sql import SparkSession\n",
        "spark = SparkSession.builder.appName(\"Data Analyst Pyspark Tutorial\").getOrCreate()\n",
        "\n",
        "from pyspark.sql.types import *"
      ]
    },
    {
      "cell_type": "code",
      "source": [],
      "metadata": {
        "id": "GdD8Iee66ESM"
      },
      "id": "GdD8Iee66ESM",
      "execution_count": null,
      "outputs": []
    },
    {
      "cell_type": "markdown",
      "id": "b4671498-8640-4cb2-ab71-37ef0947c797",
      "metadata": {
        "id": "b4671498-8640-4cb2-ab71-37ef0947c797"
      },
      "source": [
        "### Create Data Frame"
      ]
    },
    {
      "cell_type": "markdown",
      "id": "08a0e157-6333-4e04-982d-7726aa9f9c80",
      "metadata": {
        "id": "08a0e157-6333-4e04-982d-7726aa9f9c80"
      },
      "source": [
        "##### *Read CSV with header*"
      ]
    },
    {
      "cell_type": "markdown",
      "id": "c4197112-95af-40f4-99c8-f6a6d37c947e",
      "metadata": {
        "id": "c4197112-95af-40f4-99c8-f6a6d37c947e"
      },
      "source": [
        "##### *Read file without header*"
      ]
    },
    {
      "cell_type": "code",
      "execution_count": null,
      "id": "ab235ae0-daac-4f87-8c1d-13e59206ae6a",
      "metadata": {
        "id": "ab235ae0-daac-4f87-8c1d-13e59206ae6a",
        "outputId": "f1742099-aa77-4c6c-af35-81cecb69936e",
        "colab": {
          "base_uri": "https://localhost:8080/"
        }
      },
      "outputs": [
        {
          "output_type": "stream",
          "name": "stdout",
          "text": [
            "+------------+-----+-----+---------+---------+--------+---+\n",
            "|        City|State|  Zip| Latitude|Longitude|Timezone|DST|\n",
            "+------------+-----+-----+---------+---------+--------+---+\n",
            "|        Cove|   AR|90085|34.398483|-94.39398|      -6|  1|\n",
            "|    Edgemont|   AR|72044|35.624351|-92.16056|      -6|  1|\n",
            "|    Sherburn|   MN|90100|43.660847|-94.74357|      -6|  1|\n",
            "|      Lamont|   MI|90107|43.010337|-85.89754|      -5|  1|\n",
            "|    Richland|   IA|52585|41.194129|-91.98027|      -6|  1|\n",
            "|   Cannelton|   IN|90108|37.934311|-86.67821|      -5|  0|\n",
            "|     Zeeland|   MI|90110|42.829252|-85.99621|      -5|  1|\n",
            "|   Covington|   MI|49919|46.559834|-88.52201|      -5|  1|\n",
            "|Cedar Rapids|   IA|90113| 41.97545|-91.65912|      -6|  1|\n",
            "|      Higdon|   AL|90119|34.831242|-85.61564|      -6|  1|\n",
            "+------------+-----+-----+---------+---------+--------+---+\n",
            "only showing top 10 rows\n",
            "\n"
          ]
        }
      ],
      "source": [
        "# import file raw\n",
        "\n",
        "dfcsv = spark.read.options(Header=True).csv(\"postalcodes.csv\")\n",
        "\n",
        "dfcsv.show(10)"
      ]
    },
    {
      "cell_type": "code",
      "source": [
        "dfcsv = spark.read.csv(\"postalcodes.csv\")\n",
        "\n",
        "dfcsv.show(10)"
      ],
      "metadata": {
        "colab": {
          "base_uri": "https://localhost:8080/"
        },
        "id": "SM9FS8OC3SV4",
        "outputId": "a4e1a233-b3dd-47ae-fd78-79434af164f7"
      },
      "id": "SM9FS8OC3SV4",
      "execution_count": null,
      "outputs": [
        {
          "output_type": "stream",
          "name": "stdout",
          "text": [
            "+------------+-----+-----+---------+---------+--------+---+\n",
            "|         _c0|  _c1|  _c2|      _c3|      _c4|     _c5|_c6|\n",
            "+------------+-----+-----+---------+---------+--------+---+\n",
            "|        City|State|  Zip| Latitude|Longitude|Timezone|DST|\n",
            "|        Cove|   AR|90085|34.398483|-94.39398|      -6|  1|\n",
            "|    Edgemont|   AR|72044|35.624351|-92.16056|      -6|  1|\n",
            "|    Sherburn|   MN|90100|43.660847|-94.74357|      -6|  1|\n",
            "|      Lamont|   MI|90107|43.010337|-85.89754|      -5|  1|\n",
            "|    Richland|   IA|52585|41.194129|-91.98027|      -6|  1|\n",
            "|   Cannelton|   IN|90108|37.934311|-86.67821|      -5|  0|\n",
            "|     Zeeland|   MI|90110|42.829252|-85.99621|      -5|  1|\n",
            "|   Covington|   MI|49919|46.559834|-88.52201|      -5|  1|\n",
            "|Cedar Rapids|   IA|90113| 41.97545|-91.65912|      -6|  1|\n",
            "+------------+-----+-----+---------+---------+--------+---+\n",
            "only showing top 10 rows\n",
            "\n"
          ]
        }
      ]
    },
    {
      "cell_type": "code",
      "execution_count": null,
      "id": "60969a9c-114f-486a-af3e-dc1a740b276a",
      "metadata": {
        "id": "60969a9c-114f-486a-af3e-dc1a740b276a",
        "outputId": "7d6f4429-ac4a-47d3-bc99-942108f42815",
        "colab": {
          "base_uri": "https://localhost:8080/"
        }
      },
      "outputs": [
        {
          "output_type": "stream",
          "name": "stdout",
          "text": [
            "+--------+-----+-----+---------+---------+--------+---+\n",
            "|_c0     |_c1  |_c2  |_c3      |_c4      |_c5     |_c6|\n",
            "+--------+-----+-----+---------+---------+--------+---+\n",
            "|City    |State|Zip  |Latitude |Longitude|Timezone|DST|\n",
            "|Cove    |AR   |90085|34.398483|-94.39398|-6      |1  |\n",
            "|Edgemont|AR   |72044|35.624351|-92.16056|-6      |1  |\n",
            "+--------+-----+-----+---------+---------+--------+---+\n",
            "only showing top 3 rows\n",
            "\n"
          ]
        }
      ],
      "source": [
        "dfcsv.show(3,0)"
      ]
    },
    {
      "cell_type": "code",
      "source": [
        "# prompt: schema for dfcsv\n",
        "\n",
        "dfcsv.printSchema()\n"
      ],
      "metadata": {
        "colab": {
          "base_uri": "https://localhost:8080/"
        },
        "id": "AzjlqMCG2d2k",
        "outputId": "fd0b1dd9-0be8-4a42-ead0-db9598365ed8"
      },
      "id": "AzjlqMCG2d2k",
      "execution_count": null,
      "outputs": [
        {
          "output_type": "stream",
          "name": "stdout",
          "text": [
            "root\n",
            " |-- _c0: string (nullable = true)\n",
            " |-- _c1: string (nullable = true)\n",
            " |-- _c2: string (nullable = true)\n",
            " |-- _c3: string (nullable = true)\n",
            " |-- _c4: string (nullable = true)\n",
            " |-- _c5: string (nullable = true)\n",
            " |-- _c6: string (nullable = true)\n",
            "\n"
          ]
        }
      ]
    },
    {
      "cell_type": "code",
      "source": [
        "orderSchema = StructType([\n",
        "    StructField(\"City\", StringType()),\n",
        "    StructField(\"State\", StringType()),\n",
        "    StructField(\"Zip\", StringType()),\n",
        "    StructField(\"Latitude\", StringType()),\n",
        "    StructField(\"Longitude\", StringType()),\n",
        "    StructField(\"Timezone\", StringType()),\n",
        "    StructField(\"DST\", StringType())\n",
        "    ])"
      ],
      "metadata": {
        "id": "KhyxiodF2qxD"
      },
      "id": "KhyxiodF2qxD",
      "execution_count": null,
      "outputs": []
    },
    {
      "cell_type": "markdown",
      "id": "b0f76fd9-e80f-46c5-b837-ddc0def33209",
      "metadata": {
        "id": "b0f76fd9-e80f-46c5-b837-ddc0def33209"
      },
      "source": [
        "##### *Read file poviding schema*"
      ]
    },
    {
      "cell_type": "code",
      "execution_count": null,
      "id": "3029142b-1016-426a-b3e0-d3594067177b",
      "metadata": {
        "id": "3029142b-1016-426a-b3e0-d3594067177b"
      },
      "outputs": [],
      "source": [
        "# Create the schema for the table\n",
        "orderSchema = StructType([\n",
        "    StructField(\"SalesOrderNumber\", StringType()),\n",
        "    StructField(\"SalesOrderLineNumber\", IntegerType()),\n",
        "    StructField(\"OrderDate\", DateType()),\n",
        "    StructField(\"CustomerName\", StringType()),\n",
        "    StructField(\"Email\", StringType()),\n",
        "    StructField(\"Item\", StringType()),\n",
        "    StructField(\"Quantity\", IntegerType()),\n",
        "    StructField(\"UnitPrice\", FloatType()),\n",
        "    StructField(\"Tax\", FloatType())\n",
        "    ])"
      ]
    },
    {
      "cell_type": "code",
      "execution_count": null,
      "id": "64cdaadb-2db0-416f-848a-8d00c6580827",
      "metadata": {
        "id": "64cdaadb-2db0-416f-848a-8d00c6580827",
        "outputId": "a389ef6b-19d2-44bc-809b-f485ff5ad8e7",
        "colab": {
          "base_uri": "https://localhost:8080/"
        }
      },
      "outputs": [
        {
          "output_type": "execute_result",
          "data": {
            "text/plain": [
              "pyspark.sql.types.StructType"
            ],
            "text/html": [
              "<div style=\"max-width:800px; border: 1px solid var(--colab-border-color);\"><style>\n",
              "      pre.function-repr-contents {\n",
              "        overflow-x: auto;\n",
              "        padding: 8px 12px;\n",
              "        max-height: 500px;\n",
              "      }\n",
              "\n",
              "      pre.function-repr-contents.function-repr-contents-collapsed {\n",
              "        cursor: pointer;\n",
              "        max-height: 100px;\n",
              "      }\n",
              "    </style>\n",
              "    <pre style=\"white-space: initial; background:\n",
              "         var(--colab-secondary-surface-color); padding: 8px 12px;\n",
              "         border-bottom: 1px solid var(--colab-border-color);\"><b>pyspark.sql.types.StructType</b><br/>def __init__(fields: Optional[List[StructField]]=None)</pre><pre class=\"function-repr-contents function-repr-contents-collapsed\" style=\"\"><a class=\"filepath\" style=\"display:none\" href=\"#\">/usr/local/lib/python3.11/dist-packages/pyspark/sql/types.py</a>Struct type, consisting of a list of :class:`StructField`.\n",
              "\n",
              "This is the data type representing a :class:`Row`.\n",
              "\n",
              "Iterating a :class:`StructType` will iterate over its :class:`StructField`\\s.\n",
              "A contained :class:`StructField` can be accessed by its name or position.\n",
              "\n",
              "Examples\n",
              "--------\n",
              "&gt;&gt;&gt; from pyspark.sql.types import *\n",
              "&gt;&gt;&gt; struct1 = StructType([StructField(&quot;f1&quot;, StringType(), True)])\n",
              "&gt;&gt;&gt; struct1[&quot;f1&quot;]\n",
              "StructField(&#x27;f1&#x27;, StringType(), True)\n",
              "&gt;&gt;&gt; struct1[0]\n",
              "StructField(&#x27;f1&#x27;, StringType(), True)\n",
              "\n",
              "&gt;&gt;&gt; struct1 = StructType([StructField(&quot;f1&quot;, StringType(), True)])\n",
              "&gt;&gt;&gt; struct2 = StructType([StructField(&quot;f1&quot;, StringType(), True)])\n",
              "&gt;&gt;&gt; struct1 == struct2\n",
              "True\n",
              "&gt;&gt;&gt; struct1 = StructType([StructField(&quot;f1&quot;, CharType(10), True)])\n",
              "&gt;&gt;&gt; struct2 = StructType([StructField(&quot;f1&quot;, CharType(10), True)])\n",
              "&gt;&gt;&gt; struct1 == struct2\n",
              "True\n",
              "&gt;&gt;&gt; struct1 = StructType([StructField(&quot;f1&quot;, VarcharType(10), True)])\n",
              "&gt;&gt;&gt; struct2 = StructType([StructField(&quot;f1&quot;, VarcharType(10), True)])\n",
              "&gt;&gt;&gt; struct1 == struct2\n",
              "True\n",
              "&gt;&gt;&gt; struct1 = StructType([StructField(&quot;f1&quot;, StringType(), True)])\n",
              "&gt;&gt;&gt; struct2 = StructType([StructField(&quot;f1&quot;, StringType(), True),\n",
              "...     StructField(&quot;f2&quot;, IntegerType(), False)])\n",
              "&gt;&gt;&gt; struct1 == struct2\n",
              "False\n",
              "\n",
              "The below example demonstrates how to create a DataFrame based on a struct created\n",
              "using class:`StructType` and class:`StructField`:\n",
              "\n",
              "&gt;&gt;&gt; data = [(&quot;Alice&quot;, [&quot;Java&quot;, &quot;Scala&quot;]), (&quot;Bob&quot;, [&quot;Python&quot;, &quot;Scala&quot;])]\n",
              "&gt;&gt;&gt; schema = StructType([\n",
              "...     StructField(&quot;name&quot;, StringType()),\n",
              "...     StructField(&quot;languagesSkills&quot;, ArrayType(StringType())),\n",
              "... ])\n",
              "&gt;&gt;&gt; df = spark.createDataFrame(data=data, schema=schema)\n",
              "&gt;&gt;&gt; df.printSchema()\n",
              "root\n",
              " |-- name: string (nullable = true)\n",
              " |-- languagesSkills: array (nullable = true)\n",
              " |    |-- element: string (containsNull = true)\n",
              "&gt;&gt;&gt; df.show()\n",
              "+-----+---------------+\n",
              "| name|languagesSkills|\n",
              "+-----+---------------+\n",
              "|Alice|  [Java, Scala]|\n",
              "|  Bob|[Python, Scala]|\n",
              "+-----+---------------+</pre>\n",
              "      <script>\n",
              "      if (google.colab.kernel.accessAllowed && google.colab.files && google.colab.files.view) {\n",
              "        for (const element of document.querySelectorAll('.filepath')) {\n",
              "          element.style.display = 'block'\n",
              "          element.onclick = (event) => {\n",
              "            event.preventDefault();\n",
              "            event.stopPropagation();\n",
              "            google.colab.files.view(element.textContent, 729);\n",
              "          };\n",
              "        }\n",
              "      }\n",
              "      for (const element of document.querySelectorAll('.function-repr-contents')) {\n",
              "        element.onclick = (event) => {\n",
              "          event.preventDefault();\n",
              "          event.stopPropagation();\n",
              "          element.classList.toggle('function-repr-contents-collapsed');\n",
              "        };\n",
              "      }\n",
              "      </script>\n",
              "      </div>"
            ]
          },
          "metadata": {},
          "execution_count": 56
        }
      ],
      "source": [
        "type(orderSchema)"
      ]
    },
    {
      "cell_type": "code",
      "execution_count": null,
      "id": "d28b3064-8816-428b-a43c-51b1965a809f",
      "metadata": {
        "id": "d28b3064-8816-428b-a43c-51b1965a809f",
        "outputId": "c0568909-23ec-492e-e1cc-b9ded27f3793",
        "colab": {
          "base_uri": "https://localhost:8080/"
        }
      },
      "outputs": [
        {
          "output_type": "stream",
          "name": "stdout",
          "text": [
            "+-------------+-----+-----+---------+----------+--------+---+\n",
            "|         City|State|  Zip| Latitude| Longitude|Timezone|DST|\n",
            "+-------------+-----+-----+---------+----------+--------+---+\n",
            "|         Cove|   AR|90085|34.398483| -94.39398|      -6|  1|\n",
            "|     Edgemont|   AR|72044|35.624351| -92.16056|      -6|  1|\n",
            "|     Sherburn|   MN|90100|43.660847| -94.74357|      -6|  1|\n",
            "|       Lamont|   MI|90107|43.010337| -85.89754|      -5|  1|\n",
            "|     Richland|   IA|52585|41.194129| -91.98027|      -6|  1|\n",
            "|    Cannelton|   IN|90108|37.934311| -86.67821|      -5|  0|\n",
            "|      Zeeland|   MI|90110|42.829252| -85.99621|      -5|  1|\n",
            "|    Covington|   MI|49919|46.559834| -88.52201|      -5|  1|\n",
            "| Cedar Rapids|   IA|90113| 41.97545| -91.65912|      -6|  1|\n",
            "|       Higdon|   AL|90119|34.831242| -85.61564|      -6|  1|\n",
            "| Midland City|   AL|36350|31.319083| -85.48718|      -6|  1|\n",
            "|     Columbia|   TN|90124|35.619784| -87.03565|      -6|  1|\n",
            "|  Muses Mills|   KY|90126|  38.3481|-83.718626|      -5|  1|\n",
            "|    Annandale|   MN|55302|45.246631| -94.11692|      -6|  1|\n",
            "|   Greenville|   SC|90128|34.825592| -82.34099|      -5|  1|\n",
            "|      Atlanta|   GA|90129|33.844371| -84.47405|      -5|  1|\n",
            "| Saint George|   GA|90130|30.518903| -82.08063|      -5|  1|\n",
            "|       Shiloh|   GA|90133|32.803518| -84.69384|      -5|  1|\n",
            "|   Frackville|   PA|90134|40.649109|-76.503339|      -5|  1|\n",
            "|  Pipersville|   PA|90136|40.426391| -75.11842|      -5|  1|\n",
            "|   Washington|   DC|90141|38.893311|-77.014647|      -5|  1|\n",
            "|        Depew|   NY|90142|42.904958|  -78.7006|      -5|  1|\n",
            "|   Pittsburgh|   PA|90143|40.434436|-80.024817|      -5|  1|\n",
            "|Star Junction|   PA|90145|40.062849| -79.76338|      -5|  1|\n",
            "| Delray Beach|   FL|90146|26.452473| -80.16509|      -5|  1|\n",
            "|         Avon|   NC|90147|35.354252| -75.50417|      -5|  1|\n",
            "|   Chesapeake|   VA|90152|  36.7085|-76.278531|      -5|  1|\n",
            "|   Blacksburg|   VA|90154|37.174227|-80.395698|      -5|  1|\n",
            "|      Beverly|   WV|90156|38.827205| -79.89057|      -5|  1|\n",
            "|    Watertown|   MA|90158|42.371296| -71.18196|      -5|  1|\n",
            "+-------------+-----+-----+---------+----------+--------+---+\n",
            "only showing top 30 rows\n",
            "\n"
          ]
        }
      ],
      "source": [
        "# Import file raw providing Schema\n",
        "\n",
        "df = spark.read.format(\"csv\").options(Header=True).load(\"postalcodes.csv\")\n",
        "df.show(30)"
      ]
    },
    {
      "cell_type": "markdown",
      "id": "fcf011da-69c1-424e-b202-d27d5553c81a",
      "metadata": {
        "id": "fcf011da-69c1-424e-b202-d27d5553c81a"
      },
      "source": [
        "### Exploring Data Frame"
      ]
    },
    {
      "cell_type": "markdown",
      "id": "12589688-5ab1-4a62-878e-8288ed7071b8",
      "metadata": {
        "id": "12589688-5ab1-4a62-878e-8288ed7071b8"
      },
      "source": [
        "#### Getting info"
      ]
    },
    {
      "cell_type": "code",
      "execution_count": null,
      "id": "4a428359-327e-4d1f-acfd-68f673ab1993",
      "metadata": {
        "id": "4a428359-327e-4d1f-acfd-68f673ab1993",
        "outputId": "19286c75-9df6-4f12-d99d-258bc7274bb8",
        "colab": {
          "base_uri": "https://localhost:8080/"
        }
      },
      "outputs": [
        {
          "output_type": "execute_result",
          "data": {
            "text/plain": [
              "43191"
            ]
          },
          "metadata": {},
          "execution_count": 12
        }
      ],
      "source": [
        "df.count()"
      ]
    },
    {
      "cell_type": "code",
      "source": [
        "dfstate = df.select('State')\n",
        "\n",
        "\n",
        "dfstate.show(5)\n",
        "\n",
        "df.show(5)"
      ],
      "metadata": {
        "colab": {
          "base_uri": "https://localhost:8080/"
        },
        "id": "xDyAxLEB4ERX",
        "outputId": "963d54d4-7e56-43eb-c01a-353693a3ac1d",
        "collapsed": true
      },
      "id": "xDyAxLEB4ERX",
      "execution_count": null,
      "outputs": [
        {
          "output_type": "stream",
          "name": "stdout",
          "text": [
            "+-----+\n",
            "|State|\n",
            "+-----+\n",
            "|   AR|\n",
            "|   AR|\n",
            "|   MN|\n",
            "|   MI|\n",
            "|   IA|\n",
            "+-----+\n",
            "only showing top 5 rows\n",
            "\n",
            "+--------+-----+-----+---------+---------+--------+---+\n",
            "|    City|State|  Zip| Latitude|Longitude|Timezone|DST|\n",
            "+--------+-----+-----+---------+---------+--------+---+\n",
            "|    Cove|   AR|90085|34.398483|-94.39398|      -6|  1|\n",
            "|Edgemont|   AR|72044|35.624351|-92.16056|      -6|  1|\n",
            "|Sherburn|   MN|90100|43.660847|-94.74357|      -6|  1|\n",
            "|  Lamont|   MI|90107|43.010337|-85.89754|      -5|  1|\n",
            "|Richland|   IA|52585|41.194129|-91.98027|      -6|  1|\n",
            "+--------+-----+-----+---------+---------+--------+---+\n",
            "only showing top 5 rows\n",
            "\n"
          ]
        }
      ]
    },
    {
      "cell_type": "code",
      "execution_count": null,
      "id": "216471f9-cf43-4c83-97e8-e1523f52bc56",
      "metadata": {
        "id": "216471f9-cf43-4c83-97e8-e1523f52bc56",
        "outputId": "f645960f-4d68-4050-e91f-2ce7b63cd1a3",
        "colab": {
          "base_uri": "https://localhost:8080/"
        }
      },
      "outputs": [
        {
          "output_type": "execute_result",
          "data": {
            "text/plain": [
              "54"
            ]
          },
          "metadata": {},
          "execution_count": 26
        }
      ],
      "source": [
        "dfdistinctstate= df.select('state').distinct().count()\n",
        "dfdistinctstate\n",
        "\n",
        "\n",
        "\n"
      ]
    },
    {
      "cell_type": "markdown",
      "source": [],
      "metadata": {
        "id": "eorMtZfy5zAQ"
      },
      "id": "eorMtZfy5zAQ"
    },
    {
      "cell_type": "code",
      "source": [],
      "metadata": {
        "id": "rVK3UHGZWsO1"
      },
      "id": "rVK3UHGZWsO1",
      "execution_count": null,
      "outputs": []
    },
    {
      "cell_type": "code",
      "source": [
        "df.createOrReplaceTempView(\"postalcodes\")\n",
        "\n",
        "result_df=spark.sql(\"select State, count(*) as cnt from postalcodes group by State\")\n",
        "\n",
        "result_df.show(5)"
      ],
      "metadata": {
        "colab": {
          "base_uri": "https://localhost:8080/"
        },
        "id": "6cP3QntD5ckl",
        "outputId": "35bfe50b-e9ee-443f-989f-1c54300eecde"
      },
      "id": "6cP3QntD5ckl",
      "execution_count": null,
      "outputs": [
        {
          "output_type": "stream",
          "name": "stdout",
          "text": [
            "+-----+----+\n",
            "|State| cnt|\n",
            "+-----+----+\n",
            "|   SC| 554|\n",
            "|   AZ| 538|\n",
            "|   LA| 755|\n",
            "|   MN|1054|\n",
            "|   NJ| 762|\n",
            "+-----+----+\n",
            "only showing top 5 rows\n",
            "\n"
          ]
        }
      ]
    },
    {
      "cell_type": "markdown",
      "source": [],
      "metadata": {
        "id": "PT6odWmO5cT6"
      },
      "id": "PT6odWmO5cT6"
    },
    {
      "cell_type": "code",
      "source": [
        "# prompt: select all columns from postalcodes table\n",
        "\n",
        "from pyspark.sql import SparkSession\n",
        "from pyspark.sql.types import *\n",
        "import pandas as pd\n",
        "\n",
        "# Create Spark session\n",
        "!pip install pyspark\n",
        "spark = SparkSession.builder.appName(\"Data Analyst Pyspark Tutorial\").getOrCreate()\n",
        "\n",
        "# Read the CSV file into a DataFrame\n",
        "dfcsv = spark.read.csv(\"postalcodes.csv\", header=True, inferSchema=True)\n",
        "\n",
        "# Create a temporary view\n",
        "dfcsv.createOrReplaceTempView(\"postalcodes\")\n",
        "\n",
        "# Select all columns from the postalcodes table\n",
        "all_columns_df = spark.sql(\"SELECT * FROM postalcodes\")\n",
        "\n",
        "# Show the result\n",
        "all_columns_df.show()\n"
      ],
      "metadata": {
        "colab": {
          "base_uri": "https://localhost:8080/"
        },
        "id": "kQrE_NGGWhyl",
        "outputId": "35f9db0f-653d-409f-b1da-330d0916e216"
      },
      "id": "kQrE_NGGWhyl",
      "execution_count": null,
      "outputs": [
        {
          "output_type": "stream",
          "name": "stdout",
          "text": [
            "Requirement already satisfied: pyspark in /usr/local/lib/python3.11/dist-packages (3.5.4)\n",
            "Requirement already satisfied: py4j==0.10.9.7 in /usr/local/lib/python3.11/dist-packages (from pyspark) (0.10.9.7)\n",
            "+------------+-----+-----+---------+----------+--------+---+\n",
            "|        City|State|  Zip| Latitude| Longitude|Timezone|DST|\n",
            "+------------+-----+-----+---------+----------+--------+---+\n",
            "|        Cove|   AR|90085|34.398483| -94.39398|      -6|  1|\n",
            "|    Edgemont|   AR|72044|35.624351| -92.16056|      -6|  1|\n",
            "|    Sherburn|   MN|90100|43.660847| -94.74357|      -6|  1|\n",
            "|      Lamont|   MI|90107|43.010337| -85.89754|      -5|  1|\n",
            "|    Richland|   IA|52585|41.194129| -91.98027|      -6|  1|\n",
            "|   Cannelton|   IN|90108|37.934311| -86.67821|      -5|  0|\n",
            "|     Zeeland|   MI|90110|42.829252| -85.99621|      -5|  1|\n",
            "|   Covington|   MI|49919|46.559834| -88.52201|      -5|  1|\n",
            "|Cedar Rapids|   IA|90113| 41.97545| -91.65912|      -6|  1|\n",
            "|      Higdon|   AL|90119|34.831242| -85.61564|      -6|  1|\n",
            "|Midland City|   AL|36350|31.319083| -85.48718|      -6|  1|\n",
            "|    Columbia|   TN|90124|35.619784| -87.03565|      -6|  1|\n",
            "| Muses Mills|   KY|90126|  38.3481|-83.718626|      -5|  1|\n",
            "|   Annandale|   MN|55302|45.246631| -94.11692|      -6|  1|\n",
            "|  Greenville|   SC|90128|34.825592| -82.34099|      -5|  1|\n",
            "|     Atlanta|   GA|90129|33.844371| -84.47405|      -5|  1|\n",
            "|Saint George|   GA|90130|30.518903| -82.08063|      -5|  1|\n",
            "|      Shiloh|   GA|90133|32.803518| -84.69384|      -5|  1|\n",
            "|  Frackville|   PA|90134|40.649109|-76.503339|      -5|  1|\n",
            "| Pipersville|   PA|90136|40.426391| -75.11842|      -5|  1|\n",
            "+------------+-----+-----+---------+----------+--------+---+\n",
            "only showing top 20 rows\n",
            "\n"
          ]
        }
      ]
    },
    {
      "cell_type": "code",
      "source": [],
      "metadata": {
        "id": "UScJ1D8FXRn7"
      },
      "id": "UScJ1D8FXRn7",
      "execution_count": null,
      "outputs": []
    },
    {
      "cell_type": "markdown",
      "id": "c0b2e07a-5859-49cd-a9c7-b40286e31c18",
      "metadata": {
        "id": "c0b2e07a-5859-49cd-a9c7-b40286e31c18"
      },
      "source": [
        "#### Selecting columns"
      ]
    },
    {
      "cell_type": "code",
      "execution_count": null,
      "id": "7258bd30-c632-4680-b62f-8048376eb42e",
      "metadata": {
        "id": "7258bd30-c632-4680-b62f-8048376eb42e",
        "outputId": "94703514-cef4-4470-e52b-6b7b4b5eb89c",
        "colab": {
          "base_uri": "https://localhost:8080/"
        }
      },
      "outputs": [
        {
          "output_type": "stream",
          "name": "stdout",
          "text": [
            "+-----+-----+\n",
            "|State|  Zip|\n",
            "+-----+-----+\n",
            "|   AR|90085|\n",
            "|   AR|72044|\n",
            "|   MN|90100|\n",
            "|   MI|90107|\n",
            "|   IA|52585|\n",
            "+-----+-----+\n",
            "only showing top 5 rows\n",
            "\n"
          ]
        }
      ],
      "source": [
        "df.select(df[1],df[2]).show(5)"
      ]
    },
    {
      "cell_type": "markdown",
      "id": "14d99923-6321-4556-a6d2-bce87980e0fa",
      "metadata": {
        "id": "14d99923-6321-4556-a6d2-bce87980e0fa"
      },
      "source": [
        "#### Describe Data Frame"
      ]
    },
    {
      "cell_type": "code",
      "execution_count": null,
      "id": "32b94188-9aa6-47ab-8fe1-84ad6a0fdf08",
      "metadata": {
        "id": "32b94188-9aa6-47ab-8fe1-84ad6a0fdf08",
        "outputId": "b5a6e382-54f1-4f3f-f76e-97179d8c8892",
        "colab": {
          "base_uri": "https://localhost:8080/"
        }
      },
      "outputs": [
        {
          "output_type": "stream",
          "name": "stdout",
          "text": [
            "+-------+----------+-----+-----------------+-----------------+------------------+------------------+-------------------+\n",
            "|summary|      City|State|              Zip|         Latitude|         Longitude|          Timezone|                DST|\n",
            "+-------+----------+-----+-----------------+-----------------+------------------+------------------+-------------------+\n",
            "|  count|     43191|43191|            43191|            43191|             43191|             43191|              43191|\n",
            "|   mean|      NULL| NULL|49605.28133175893|38.50296645893744|-90.93793709960308|-5.842143039059064| 0.9594822995531477|\n",
            "| stddev|      NULL| NULL|28046.55767852084|5.395779013062673|15.356758118054104|1.0164852258682984|0.19717230158797316|\n",
            "|    min|Aaronsburg|   AK|            10001|        -7.209975|        -100.00991|               -10|                  0|\n",
            "|    max|    Zwolle|   WY|            99950|        71.299525|         -99.99968|                -9|                  1|\n",
            "+-------+----------+-----+-----------------+-----------------+------------------+------------------+-------------------+\n",
            "\n"
          ]
        }
      ],
      "source": [
        "df.describe().show()"
      ]
    },
    {
      "cell_type": "markdown",
      "id": "ad4204b8-1193-40cf-a415-c4f5c0ef0f23",
      "metadata": {
        "id": "ad4204b8-1193-40cf-a415-c4f5c0ef0f23"
      },
      "source": [
        "### Using functions\n",
        "\n",
        "[Pyspark Function](https://spark.apache.org/docs/latest/api/python/reference/pyspark.sql/functions.html)"
      ]
    },
    {
      "cell_type": "markdown",
      "id": "7a798426-3f11-49f9-ae81-87eb53ef3424",
      "metadata": {
        "id": "7a798426-3f11-49f9-ae81-87eb53ef3424"
      },
      "source": [
        "#### Generating columns\n"
      ]
    },
    {
      "cell_type": "markdown",
      "id": "b83921d4-939b-49f5-8a10-c8dbb439ac27",
      "metadata": {
        "id": "b83921d4-939b-49f5-8a10-c8dbb439ac27"
      },
      "source": [
        "**Introduction to withColumn link to this section**\n",
        "\n",
        "The withColumn function in Spark allows you to add a new column or replace an existing column in a DataFrame. It provides a flexible and expressive way to modify or derive new columns based on existing ones. With withColumn , you can apply transformations, perform computations, or create complex expressions to augment your data."
      ]
    },
    {
      "cell_type": "markdown",
      "id": "11f4c6a7-f597-4474-b878-1b4cbbf11513",
      "metadata": {
        "id": "11f4c6a7-f597-4474-b878-1b4cbbf11513"
      },
      "source": [
        "**Adding a New Column link to this section**\n",
        "\n",
        "To add a new column using withColumn , you need to specify the name of the new column and the transformation or computation you want to apply."
      ]
    },
    {
      "cell_type": "code",
      "execution_count": null,
      "id": "49fcfa87-9fb1-4328-bf38-ffe69481b6f4",
      "metadata": {
        "id": "49fcfa87-9fb1-4328-bf38-ffe69481b6f4",
        "outputId": "5369f47b-b95c-4d42-bba1-8f3655a628d9",
        "colab": {
          "base_uri": "https://localhost:8080/",
          "height": 460
        }
      },
      "outputs": [
        {
          "output_type": "error",
          "ename": "AnalysisException",
          "evalue": "[UNRESOLVED_COLUMN.WITH_SUGGESTION] A column or function parameter with name `Quantity` cannot be resolved. Did you mean one of the following? [`City`, `Latitude`, `State`, `Zip`, `DST`].;\n'Project [City#257, State#258, Zip#259, Latitude#260, Longitude#261, Timezone#262, DST#263, CASE WHEN ('Quantity >= 100) THEN a lot ELSE not a lot END AS lot#1501]\n+- Relation [City#257,State#258,Zip#259,Latitude#260,Longitude#261,Timezone#262,DST#263] csv\n",
          "traceback": [
            "\u001b[0;31m---------------------------------------------------------------------------\u001b[0m",
            "\u001b[0;31mAnalysisException\u001b[0m                         Traceback (most recent call last)",
            "\u001b[0;32m<ipython-input-46-70604172d50d>\u001b[0m in \u001b[0;36m<cell line: 0>\u001b[0;34m()\u001b[0m\n\u001b[1;32m      1\u001b[0m \u001b[0;32mfrom\u001b[0m \u001b[0mpyspark\u001b[0m\u001b[0;34m.\u001b[0m\u001b[0msql\u001b[0m\u001b[0;34m.\u001b[0m\u001b[0mfunctions\u001b[0m \u001b[0;32mimport\u001b[0m \u001b[0mwhen\u001b[0m\u001b[0;34m,\u001b[0m\u001b[0mlit\u001b[0m\u001b[0;34m,\u001b[0m \u001b[0mcol\u001b[0m\u001b[0;34m,\u001b[0m \u001b[0mcurrent_timestamp\u001b[0m\u001b[0;34m,\u001b[0m \u001b[0minput_file_name\u001b[0m\u001b[0;34m\u001b[0m\u001b[0;34m\u001b[0m\u001b[0m\n\u001b[1;32m      2\u001b[0m \u001b[0;34m\u001b[0m\u001b[0m\n\u001b[0;32m----> 3\u001b[0;31m \u001b[0mdfWithNewColumn\u001b[0m \u001b[0;34m=\u001b[0m \u001b[0mdf\u001b[0m\u001b[0;34m.\u001b[0m\u001b[0mwithColumn\u001b[0m\u001b[0;34m(\u001b[0m\u001b[0;34m\"lot\"\u001b[0m\u001b[0;34m,\u001b[0m \u001b[0mwhen\u001b[0m\u001b[0;34m(\u001b[0m\u001b[0mcol\u001b[0m\u001b[0;34m(\u001b[0m\u001b[0;34m\"Quantity\"\u001b[0m\u001b[0;34m)\u001b[0m \u001b[0;34m>=\u001b[0m \u001b[0;36m100\u001b[0m\u001b[0;34m,\u001b[0m \u001b[0;34m\"a lot\"\u001b[0m\u001b[0;34m)\u001b[0m\u001b[0;34m.\u001b[0m\u001b[0motherwise\u001b[0m\u001b[0;34m(\u001b[0m\u001b[0;34m\"not a lot\"\u001b[0m\u001b[0;34m)\u001b[0m\u001b[0;34m)\u001b[0m\u001b[0;34m\u001b[0m\u001b[0;34m\u001b[0m\u001b[0m\n\u001b[0m\u001b[1;32m      4\u001b[0m \u001b[0;34m\u001b[0m\u001b[0m\n\u001b[1;32m      5\u001b[0m \u001b[0mdfWithNewColumn\u001b[0m\u001b[0;34m.\u001b[0m\u001b[0mshow\u001b[0m\u001b[0;34m(\u001b[0m\u001b[0;36m5\u001b[0m\u001b[0;34m,\u001b[0m\u001b[0;36m0\u001b[0m\u001b[0;34m)\u001b[0m\u001b[0;34m\u001b[0m\u001b[0;34m\u001b[0m\u001b[0m\n",
            "\u001b[0;32m/usr/local/lib/python3.11/dist-packages/pyspark/sql/dataframe.py\u001b[0m in \u001b[0;36mwithColumn\u001b[0;34m(self, colName, col)\u001b[0m\n\u001b[1;32m   5174\u001b[0m                 \u001b[0mmessage_parameters\u001b[0m\u001b[0;34m=\u001b[0m\u001b[0;34m{\u001b[0m\u001b[0;34m\"arg_name\"\u001b[0m\u001b[0;34m:\u001b[0m \u001b[0;34m\"col\"\u001b[0m\u001b[0;34m,\u001b[0m \u001b[0;34m\"arg_type\"\u001b[0m\u001b[0;34m:\u001b[0m \u001b[0mtype\u001b[0m\u001b[0;34m(\u001b[0m\u001b[0mcol\u001b[0m\u001b[0;34m)\u001b[0m\u001b[0;34m.\u001b[0m\u001b[0m__name__\u001b[0m\u001b[0;34m}\u001b[0m\u001b[0;34m,\u001b[0m\u001b[0;34m\u001b[0m\u001b[0;34m\u001b[0m\u001b[0m\n\u001b[1;32m   5175\u001b[0m             )\n\u001b[0;32m-> 5176\u001b[0;31m         \u001b[0;32mreturn\u001b[0m \u001b[0mDataFrame\u001b[0m\u001b[0;34m(\u001b[0m\u001b[0mself\u001b[0m\u001b[0;34m.\u001b[0m\u001b[0m_jdf\u001b[0m\u001b[0;34m.\u001b[0m\u001b[0mwithColumn\u001b[0m\u001b[0;34m(\u001b[0m\u001b[0mcolName\u001b[0m\u001b[0;34m,\u001b[0m \u001b[0mcol\u001b[0m\u001b[0;34m.\u001b[0m\u001b[0m_jc\u001b[0m\u001b[0;34m)\u001b[0m\u001b[0;34m,\u001b[0m \u001b[0mself\u001b[0m\u001b[0;34m.\u001b[0m\u001b[0msparkSession\u001b[0m\u001b[0;34m)\u001b[0m\u001b[0;34m\u001b[0m\u001b[0;34m\u001b[0m\u001b[0m\n\u001b[0m\u001b[1;32m   5177\u001b[0m \u001b[0;34m\u001b[0m\u001b[0m\n\u001b[1;32m   5178\u001b[0m     \u001b[0;32mdef\u001b[0m \u001b[0mwithColumnRenamed\u001b[0m\u001b[0;34m(\u001b[0m\u001b[0mself\u001b[0m\u001b[0;34m,\u001b[0m \u001b[0mexisting\u001b[0m\u001b[0;34m:\u001b[0m \u001b[0mstr\u001b[0m\u001b[0;34m,\u001b[0m \u001b[0mnew\u001b[0m\u001b[0;34m:\u001b[0m \u001b[0mstr\u001b[0m\u001b[0;34m)\u001b[0m \u001b[0;34m->\u001b[0m \u001b[0;34m\"DataFrame\"\u001b[0m\u001b[0;34m:\u001b[0m\u001b[0;34m\u001b[0m\u001b[0;34m\u001b[0m\u001b[0m\n",
            "\u001b[0;32m/usr/local/lib/python3.11/dist-packages/py4j/java_gateway.py\u001b[0m in \u001b[0;36m__call__\u001b[0;34m(self, *args)\u001b[0m\n\u001b[1;32m   1320\u001b[0m \u001b[0;34m\u001b[0m\u001b[0m\n\u001b[1;32m   1321\u001b[0m         \u001b[0manswer\u001b[0m \u001b[0;34m=\u001b[0m \u001b[0mself\u001b[0m\u001b[0;34m.\u001b[0m\u001b[0mgateway_client\u001b[0m\u001b[0;34m.\u001b[0m\u001b[0msend_command\u001b[0m\u001b[0;34m(\u001b[0m\u001b[0mcommand\u001b[0m\u001b[0;34m)\u001b[0m\u001b[0;34m\u001b[0m\u001b[0;34m\u001b[0m\u001b[0m\n\u001b[0;32m-> 1322\u001b[0;31m         return_value = get_return_value(\n\u001b[0m\u001b[1;32m   1323\u001b[0m             answer, self.gateway_client, self.target_id, self.name)\n\u001b[1;32m   1324\u001b[0m \u001b[0;34m\u001b[0m\u001b[0m\n",
            "\u001b[0;32m/usr/local/lib/python3.11/dist-packages/pyspark/errors/exceptions/captured.py\u001b[0m in \u001b[0;36mdeco\u001b[0;34m(*a, **kw)\u001b[0m\n\u001b[1;32m    183\u001b[0m                 \u001b[0;31m# Hide where the exception came from that shows a non-Pythonic\u001b[0m\u001b[0;34m\u001b[0m\u001b[0;34m\u001b[0m\u001b[0m\n\u001b[1;32m    184\u001b[0m                 \u001b[0;31m# JVM exception message.\u001b[0m\u001b[0;34m\u001b[0m\u001b[0;34m\u001b[0m\u001b[0m\n\u001b[0;32m--> 185\u001b[0;31m                 \u001b[0;32mraise\u001b[0m \u001b[0mconverted\u001b[0m \u001b[0;32mfrom\u001b[0m \u001b[0;32mNone\u001b[0m\u001b[0;34m\u001b[0m\u001b[0;34m\u001b[0m\u001b[0m\n\u001b[0m\u001b[1;32m    186\u001b[0m             \u001b[0;32melse\u001b[0m\u001b[0;34m:\u001b[0m\u001b[0;34m\u001b[0m\u001b[0;34m\u001b[0m\u001b[0m\n\u001b[1;32m    187\u001b[0m                 \u001b[0;32mraise\u001b[0m\u001b[0;34m\u001b[0m\u001b[0;34m\u001b[0m\u001b[0m\n",
            "\u001b[0;31mAnalysisException\u001b[0m: [UNRESOLVED_COLUMN.WITH_SUGGESTION] A column or function parameter with name `Quantity` cannot be resolved. Did you mean one of the following? [`City`, `Latitude`, `State`, `Zip`, `DST`].;\n'Project [City#257, State#258, Zip#259, Latitude#260, Longitude#261, Timezone#262, DST#263, CASE WHEN ('Quantity >= 100) THEN a lot ELSE not a lot END AS lot#1501]\n+- Relation [City#257,State#258,Zip#259,Latitude#260,Longitude#261,Timezone#262,DST#263] csv\n"
          ]
        }
      ],
      "source": [
        "from pyspark.sql.functions import when,lit, col, current_timestamp, input_file_name\n",
        "\n",
        "dfWithNewColumn = df.withColumn(\"lot\", when(col(\"Quantity\") >= 100, \"a lot\").otherwise(\"not a lot\"))\n",
        "\n",
        "dfWithNewColumn.show(5,0)"
      ]
    },
    {
      "cell_type": "markdown",
      "id": "c1e23338-18e1-4a01-a181-3d24c4f9b018",
      "metadata": {
        "id": "c1e23338-18e1-4a01-a181-3d24c4f9b018"
      },
      "source": [
        "**Replacing an Existing Column link to this section**\n",
        "\n",
        "withColumn can also be used to replace an existing column in a DataFrame"
      ]
    },
    {
      "cell_type": "code",
      "execution_count": null,
      "id": "b9b7eb0f-646f-4350-8a53-33339dc5c4b4",
      "metadata": {
        "id": "b9b7eb0f-646f-4350-8a53-33339dc5c4b4",
        "outputId": "383f5801-5574-4541-8919-19db18fc2f24",
        "colab": {
          "base_uri": "https://localhost:8080/",
          "height": 391
        }
      },
      "outputs": [
        {
          "output_type": "error",
          "ename": "AnalysisException",
          "evalue": "[UNRESOLVED_COLUMN.WITH_SUGGESTION] A column or function parameter with name `CustomerName` cannot be resolved. Did you mean one of the following? [`State`, `Timezone`, `City`, `Latitude`, `Longitude`].;\n'Project [City#488, State#489, Zip#490, Latitude#491, Longitude#492, Timezone#493, DST#494, upper('CustomerName) AS CustomerName#1135]\n+- Relation [City#488,State#489,Zip#490,Latitude#491,Longitude#492,Timezone#493,DST#494] csv\n",
          "traceback": [
            "\u001b[0;31m---------------------------------------------------------------------------\u001b[0m",
            "\u001b[0;31mAnalysisException\u001b[0m                         Traceback (most recent call last)",
            "\u001b[0;32m<ipython-input-37-af581d8a8207>\u001b[0m in \u001b[0;36m<cell line: 3>\u001b[0;34m()\u001b[0m\n\u001b[1;32m      1\u001b[0m \u001b[0;32mfrom\u001b[0m \u001b[0mpyspark\u001b[0m\u001b[0;34m.\u001b[0m\u001b[0msql\u001b[0m\u001b[0;34m.\u001b[0m\u001b[0mfunctions\u001b[0m \u001b[0;32mimport\u001b[0m \u001b[0mupper\u001b[0m\u001b[0;34m\u001b[0m\u001b[0;34m\u001b[0m\u001b[0m\n\u001b[1;32m      2\u001b[0m \u001b[0;34m\u001b[0m\u001b[0m\n\u001b[0;32m----> 3\u001b[0;31m \u001b[0mdfWithUppercaseName\u001b[0m \u001b[0;34m=\u001b[0m \u001b[0mdf\u001b[0m\u001b[0;34m.\u001b[0m\u001b[0mwithColumn\u001b[0m\u001b[0;34m(\u001b[0m\u001b[0;34m\"CustomerName\"\u001b[0m\u001b[0;34m,\u001b[0m \u001b[0mupper\u001b[0m\u001b[0;34m(\u001b[0m\u001b[0mcol\u001b[0m\u001b[0;34m(\u001b[0m\u001b[0;34m\"CustomerName\"\u001b[0m\u001b[0;34m)\u001b[0m\u001b[0;34m)\u001b[0m\u001b[0;34m)\u001b[0m\u001b[0;34m\u001b[0m\u001b[0;34m\u001b[0m\u001b[0m\n\u001b[0m\u001b[1;32m      4\u001b[0m \u001b[0mdfWithUppercaseName\u001b[0m\u001b[0;34m.\u001b[0m\u001b[0mshow\u001b[0m\u001b[0;34m(\u001b[0m\u001b[0;36m3\u001b[0m\u001b[0;34m)\u001b[0m\u001b[0;34m\u001b[0m\u001b[0;34m\u001b[0m\u001b[0m\n",
            "\u001b[0;32m/usr/local/lib/python3.10/dist-packages/pyspark/sql/dataframe.py\u001b[0m in \u001b[0;36mwithColumn\u001b[0;34m(self, colName, col)\u001b[0m\n\u001b[1;32m   5172\u001b[0m                 \u001b[0mmessage_parameters\u001b[0m\u001b[0;34m=\u001b[0m\u001b[0;34m{\u001b[0m\u001b[0;34m\"arg_name\"\u001b[0m\u001b[0;34m:\u001b[0m \u001b[0;34m\"col\"\u001b[0m\u001b[0;34m,\u001b[0m \u001b[0;34m\"arg_type\"\u001b[0m\u001b[0;34m:\u001b[0m \u001b[0mtype\u001b[0m\u001b[0;34m(\u001b[0m\u001b[0mcol\u001b[0m\u001b[0;34m)\u001b[0m\u001b[0;34m.\u001b[0m\u001b[0m__name__\u001b[0m\u001b[0;34m}\u001b[0m\u001b[0;34m,\u001b[0m\u001b[0;34m\u001b[0m\u001b[0;34m\u001b[0m\u001b[0m\n\u001b[1;32m   5173\u001b[0m             )\n\u001b[0;32m-> 5174\u001b[0;31m         \u001b[0;32mreturn\u001b[0m \u001b[0mDataFrame\u001b[0m\u001b[0;34m(\u001b[0m\u001b[0mself\u001b[0m\u001b[0;34m.\u001b[0m\u001b[0m_jdf\u001b[0m\u001b[0;34m.\u001b[0m\u001b[0mwithColumn\u001b[0m\u001b[0;34m(\u001b[0m\u001b[0mcolName\u001b[0m\u001b[0;34m,\u001b[0m \u001b[0mcol\u001b[0m\u001b[0;34m.\u001b[0m\u001b[0m_jc\u001b[0m\u001b[0;34m)\u001b[0m\u001b[0;34m,\u001b[0m \u001b[0mself\u001b[0m\u001b[0;34m.\u001b[0m\u001b[0msparkSession\u001b[0m\u001b[0;34m)\u001b[0m\u001b[0;34m\u001b[0m\u001b[0;34m\u001b[0m\u001b[0m\n\u001b[0m\u001b[1;32m   5175\u001b[0m \u001b[0;34m\u001b[0m\u001b[0m\n\u001b[1;32m   5176\u001b[0m     \u001b[0;32mdef\u001b[0m \u001b[0mwithColumnRenamed\u001b[0m\u001b[0;34m(\u001b[0m\u001b[0mself\u001b[0m\u001b[0;34m,\u001b[0m \u001b[0mexisting\u001b[0m\u001b[0;34m:\u001b[0m \u001b[0mstr\u001b[0m\u001b[0;34m,\u001b[0m \u001b[0mnew\u001b[0m\u001b[0;34m:\u001b[0m \u001b[0mstr\u001b[0m\u001b[0;34m)\u001b[0m \u001b[0;34m->\u001b[0m \u001b[0;34m\"DataFrame\"\u001b[0m\u001b[0;34m:\u001b[0m\u001b[0;34m\u001b[0m\u001b[0;34m\u001b[0m\u001b[0m\n",
            "\u001b[0;32m/usr/local/lib/python3.10/dist-packages/py4j/java_gateway.py\u001b[0m in \u001b[0;36m__call__\u001b[0;34m(self, *args)\u001b[0m\n\u001b[1;32m   1320\u001b[0m \u001b[0;34m\u001b[0m\u001b[0m\n\u001b[1;32m   1321\u001b[0m         \u001b[0manswer\u001b[0m \u001b[0;34m=\u001b[0m \u001b[0mself\u001b[0m\u001b[0;34m.\u001b[0m\u001b[0mgateway_client\u001b[0m\u001b[0;34m.\u001b[0m\u001b[0msend_command\u001b[0m\u001b[0;34m(\u001b[0m\u001b[0mcommand\u001b[0m\u001b[0;34m)\u001b[0m\u001b[0;34m\u001b[0m\u001b[0;34m\u001b[0m\u001b[0m\n\u001b[0;32m-> 1322\u001b[0;31m         return_value = get_return_value(\n\u001b[0m\u001b[1;32m   1323\u001b[0m             answer, self.gateway_client, self.target_id, self.name)\n\u001b[1;32m   1324\u001b[0m \u001b[0;34m\u001b[0m\u001b[0m\n",
            "\u001b[0;32m/usr/local/lib/python3.10/dist-packages/pyspark/errors/exceptions/captured.py\u001b[0m in \u001b[0;36mdeco\u001b[0;34m(*a, **kw)\u001b[0m\n\u001b[1;32m    183\u001b[0m                 \u001b[0;31m# Hide where the exception came from that shows a non-Pythonic\u001b[0m\u001b[0;34m\u001b[0m\u001b[0;34m\u001b[0m\u001b[0m\n\u001b[1;32m    184\u001b[0m                 \u001b[0;31m# JVM exception message.\u001b[0m\u001b[0;34m\u001b[0m\u001b[0;34m\u001b[0m\u001b[0m\n\u001b[0;32m--> 185\u001b[0;31m                 \u001b[0;32mraise\u001b[0m \u001b[0mconverted\u001b[0m \u001b[0;32mfrom\u001b[0m \u001b[0;32mNone\u001b[0m\u001b[0;34m\u001b[0m\u001b[0;34m\u001b[0m\u001b[0m\n\u001b[0m\u001b[1;32m    186\u001b[0m             \u001b[0;32melse\u001b[0m\u001b[0;34m:\u001b[0m\u001b[0;34m\u001b[0m\u001b[0;34m\u001b[0m\u001b[0m\n\u001b[1;32m    187\u001b[0m                 \u001b[0;32mraise\u001b[0m\u001b[0;34m\u001b[0m\u001b[0;34m\u001b[0m\u001b[0m\n",
            "\u001b[0;31mAnalysisException\u001b[0m: [UNRESOLVED_COLUMN.WITH_SUGGESTION] A column or function parameter with name `CustomerName` cannot be resolved. Did you mean one of the following? [`State`, `Timezone`, `City`, `Latitude`, `Longitude`].;\n'Project [City#488, State#489, Zip#490, Latitude#491, Longitude#492, Timezone#493, DST#494, upper('CustomerName) AS CustomerName#1135]\n+- Relation [City#488,State#489,Zip#490,Latitude#491,Longitude#492,Timezone#493,DST#494] csv\n"
          ]
        }
      ],
      "source": [
        "from pyspark.sql.functions import upper\n",
        "\n",
        "dfWithUppercaseName = df.withColumn(\"CustomerName\", upper(col(\"CustomerName\")))\n",
        "dfWithUppercaseName.show(3)\n"
      ]
    },
    {
      "cell_type": "code",
      "execution_count": null,
      "id": "869f3f6b-33ac-4a74-98d4-3de7b5e27207",
      "metadata": {
        "id": "869f3f6b-33ac-4a74-98d4-3de7b5e27207"
      },
      "outputs": [],
      "source": [
        "from pyspark.sql.functions import lower\n",
        "\n",
        "dfWithLowercaseName = df.withColumn(\"CustomerName\", lower(col(\"CustomerName\")))\n",
        "dfWithLowercaseName.show(3)\n"
      ]
    },
    {
      "cell_type": "code",
      "execution_count": null,
      "id": "6b919408-c414-401a-a9b4-5c5acf465c59",
      "metadata": {
        "id": "6b919408-c414-401a-a9b4-5c5acf465c59"
      },
      "outputs": [],
      "source": [
        "from pyspark.sql.functions import initcap\n",
        "\n",
        "dfWithInitcapcaseName = df.withColumn(\"CustomerName\", initcap(col(\"CustomerName\")))\n",
        "dfWithInitcapcaseName.show(3)"
      ]
    },
    {
      "cell_type": "markdown",
      "id": "822601b1-473d-4f0a-9db9-59adc02d6ea0",
      "metadata": {
        "id": "822601b1-473d-4f0a-9db9-59adc02d6ea0"
      },
      "source": [
        "#### Dropping columns"
      ]
    },
    {
      "cell_type": "code",
      "execution_count": null,
      "id": "c823ddf5-841a-4110-b6a1-e636c5ae1d00",
      "metadata": {
        "id": "c823ddf5-841a-4110-b6a1-e636c5ae1d00"
      },
      "outputs": [],
      "source": [
        "df_pyspark = df\n",
        "df_pyspark = df_pyspark.drop(\"Email\")\n",
        "df_pyspark.show(5)"
      ]
    },
    {
      "cell_type": "markdown",
      "id": "7d82614b-850d-4025-b984-dc4e9480425b",
      "metadata": {
        "id": "7d82614b-850d-4025-b984-dc4e9480425b"
      },
      "source": [
        "#### Using functions\n",
        "\n",
        "[Pyspark Function](https://spark.apache.org/docs/latest/api/python/reference/pyspark.sql/functions.html)"
      ]
    },
    {
      "cell_type": "code",
      "execution_count": null,
      "id": "55355e8b-c0a9-4040-b1c9-0926a88fddc7",
      "metadata": {
        "id": "55355e8b-c0a9-4040-b1c9-0926a88fddc7"
      },
      "outputs": [],
      "source": [
        "from pyspark.sql.functions import when,lit, col, current_timestamp, input_file_name\n",
        "\n",
        " # Add columns IsFlagged, CreatedTS and ModifiedTS\n",
        "df = df.withColumn(\"FileName\", input_file_name())\n",
        "\n",
        "df.show(5,0)"
      ]
    },
    {
      "cell_type": "code",
      "execution_count": null,
      "id": "0be5e9cf-fb17-4977-b2bf-78a300704a43",
      "metadata": {
        "id": "0be5e9cf-fb17-4977-b2bf-78a300704a43"
      },
      "outputs": [],
      "source": [
        "#df =df.withColumn(\"CreatedTS\", current_timestamp()).withColumn(\"ModifiedTS\", current_timestamp())"
      ]
    },
    {
      "cell_type": "code",
      "execution_count": null,
      "id": "922d9dd2-8b27-4301-99ad-ccbb720c7d68",
      "metadata": {
        "id": "922d9dd2-8b27-4301-99ad-ccbb720c7d68"
      },
      "outputs": [],
      "source": [
        "# Add specific columns\n",
        "\n",
        "df =df.withColumn(\"CreatedTS\", current_timestamp())\n",
        "df =df.withColumn(\"ModifiedTS\", current_timestamp())\n",
        "\n",
        "df.show(3,0)"
      ]
    },
    {
      "cell_type": "code",
      "execution_count": null,
      "id": "8b313469-2d0c-4fa9-8119-c0d5e8edff5d",
      "metadata": {
        "scrolled": true,
        "id": "8b313469-2d0c-4fa9-8119-c0d5e8edff5d"
      },
      "outputs": [],
      "source": [
        "desired_column=df.columns[-5:]"
      ]
    },
    {
      "cell_type": "code",
      "execution_count": null,
      "id": "4c013d25-eab3-48e8-87ee-cd24eb303475",
      "metadata": {
        "scrolled": true,
        "id": "4c013d25-eab3-48e8-87ee-cd24eb303475"
      },
      "outputs": [],
      "source": [
        "type(desired_column)"
      ]
    },
    {
      "cell_type": "code",
      "execution_count": null,
      "id": "e7c005ca-eed1-406c-80c3-cb757c80ac58",
      "metadata": {
        "id": "e7c005ca-eed1-406c-80c3-cb757c80ac58"
      },
      "outputs": [],
      "source": [
        "print(desired_column)"
      ]
    },
    {
      "cell_type": "code",
      "execution_count": null,
      "id": "e0e1b94b-3216-4d54-9cbb-4aa9d7a0bddd",
      "metadata": {
        "id": "e0e1b94b-3216-4d54-9cbb-4aa9d7a0bddd"
      },
      "outputs": [],
      "source": [
        "df.select(df.columns[-5:]).show(3,0)"
      ]
    },
    {
      "cell_type": "code",
      "execution_count": null,
      "id": "ad17b463-a2e4-457f-bfb6-ff62fb17e183",
      "metadata": {
        "id": "ad17b463-a2e4-457f-bfb6-ff62fb17e183"
      },
      "outputs": [],
      "source": [
        "df.select(\"CustomerName\").show(5,0)"
      ]
    },
    {
      "cell_type": "code",
      "execution_count": null,
      "id": "edb581e0-833c-44f5-bbdc-187e50160216",
      "metadata": {
        "id": "edb581e0-833c-44f5-bbdc-187e50160216"
      },
      "outputs": [],
      "source": [
        "#df.where(df.CustomerName.isNotNull()).show(10,0)\n",
        "#df.where(df.CustomerName.isNotNull()).count()"
      ]
    },
    {
      "cell_type": "code",
      "execution_count": null,
      "id": "c3b5fb61-8140-4239-a8e4-d44b15784c32",
      "metadata": {
        "id": "c3b5fb61-8140-4239-a8e4-d44b15784c32"
      },
      "outputs": [],
      "source": [
        "df.where(df.CustomerName.isNull()).show(10,0)\n"
      ]
    },
    {
      "cell_type": "code",
      "execution_count": null,
      "id": "ca7f89e9-a980-47fe-b6b0-d3514fc9555b",
      "metadata": {
        "id": "ca7f89e9-a980-47fe-b6b0-d3514fc9555b"
      },
      "outputs": [],
      "source": [
        "df.where(df.CustomerName.isNull()).count()"
      ]
    },
    {
      "cell_type": "code",
      "execution_count": null,
      "id": "ac9f0bdc-d716-4805-b94d-3ab16cead5ec",
      "metadata": {
        "scrolled": true,
        "id": "ac9f0bdc-d716-4805-b94d-3ab16cead5ec"
      },
      "outputs": [],
      "source": [
        "df.filter(df.CustomerName == \"\").show(1)\n",
        "df.filter(df.CustomerName == \"\").count()\n"
      ]
    },
    {
      "cell_type": "code",
      "execution_count": null,
      "id": "efe2a4eb-a1b1-438e-9e42-68605ce03dff",
      "metadata": {
        "jupyter": {
          "source_hidden": true
        },
        "id": "efe2a4eb-a1b1-438e-9e42-68605ce03dff"
      },
      "outputs": [],
      "source": [
        "df.filter(df.CustomerName != \"\").show(1)\n",
        "df.filter(df.CustomerName != \"\").count()\n"
      ]
    },
    {
      "cell_type": "code",
      "execution_count": null,
      "id": "0152e475-cc81-48c8-8a06-963004efa64c",
      "metadata": {
        "id": "0152e475-cc81-48c8-8a06-963004efa64c"
      },
      "outputs": [],
      "source": [
        "from pyspark.sql.functions import when,lit, col, current_timestamp, input_file_name\n",
        "\n",
        "# Update CustomerName to \"Unknown\" if CustomerName null or empty\n",
        "dfnew2 = df.withColumn(\"CustomerName\", when(col(\"CustomerName\").isNull(),lit(\"Unknown\")).otherwise(col(\"CustomerName\")))\n",
        "\n",
        "dfnew2.show(3)"
      ]
    },
    {
      "cell_type": "markdown",
      "id": "5d263550-1e8b-49a5-8810-392ff707a6b8",
      "metadata": {
        "id": "5d263550-1e8b-49a5-8810-392ff707a6b8"
      },
      "source": [
        "### CLEANING DATA"
      ]
    },
    {
      "cell_type": "markdown",
      "id": "3594677c-bbfc-4d65-aaac-86fea3db97e3",
      "metadata": {
        "id": "3594677c-bbfc-4d65-aaac-86fea3db97e3"
      },
      "source": [
        "#### Handle null values"
      ]
    },
    {
      "cell_type": "code",
      "execution_count": null,
      "id": "f8d029cd-2a1b-4540-805c-72973905425e",
      "metadata": {
        "id": "f8d029cd-2a1b-4540-805c-72973905425e",
        "outputId": "696cb322-4c23-4e73-f78e-77a7cfd2e475"
      },
      "outputs": [
        {
          "name": "stdout",
          "output_type": "stream",
          "text": [
            "+----------------+--------------------+----------+--------------+--------------------+--------------------+--------+---------+--------+--------------------+--------------------+--------------------+\n",
            "|SalesOrderNumber|SalesOrderLineNumber| OrderDate|  CustomerName|               Email|                Item|Quantity|UnitPrice|     Tax|            FileName|           CreatedTS|          ModifiedTS|\n",
            "+----------------+--------------------+----------+--------------+--------------------+--------------------+--------+---------+--------+--------------------+--------------------+--------------------+\n",
            "|         SO43701|                   1|2019-07-01|          null|christy12@adventu...|Mountain-100 Silv...|       1|  3399.99|271.9992|file:///C:/Users/...|2024-04-03 18:11:...|2024-04-03 18:11:...|\n",
            "|         SO43704|                   1|2019-07-01|    Julio Ruiz|julio1@adventure-...|Mountain-100 Blac...|       1|  3374.99|269.9992|file:///C:/Users/...|2024-04-03 18:11:...|2024-04-03 18:11:...|\n",
            "|         SO43705|                   1|2019-07-01|     Curtis Lu|curtis9@adventure...|Mountain-100 Silv...|       1|  3399.99|271.9992|file:///C:/Users/...|2024-04-03 18:11:...|2024-04-03 18:11:...|\n",
            "|         SO43700|                   1|2019-07-01|  Ruben Prasad|ruben10@adventure...|  Road-650 Black, 62|       1| 699.0982| 55.9279|file:///C:/Users/...|2024-04-03 18:11:...|2024-04-03 18:11:...|\n",
            "|         SO43703|                   1|2019-07-01|Albert Alvarez|albert7@adventure...|    Road-150 Red, 62|       1|  3578.27|286.2616|file:///C:/Users/...|2024-04-03 18:11:...|2024-04-03 18:11:...|\n",
            "+----------------+--------------------+----------+--------------+--------------------+--------------------+--------+---------+--------+--------------------+--------------------+--------------------+\n",
            "only showing top 5 rows\n",
            "\n"
          ]
        }
      ],
      "source": [
        "df.show(5)"
      ]
    },
    {
      "cell_type": "code",
      "execution_count": null,
      "id": "8cb88f80-8e47-4064-83a2-75e1d5fe2d27",
      "metadata": {
        "id": "8cb88f80-8e47-4064-83a2-75e1d5fe2d27",
        "outputId": "ecaef006-a82c-4d0b-eaf6-69c9752f1d97"
      },
      "outputs": [
        {
          "name": "stdout",
          "output_type": "stream",
          "text": [
            "+----------------+--------------------+----------+--------------+--------------------+--------------------+--------+---------+--------+--------------------+--------------------+--------------------+\n",
            "|SalesOrderNumber|SalesOrderLineNumber| OrderDate|  CustomerName|               Email|                Item|Quantity|UnitPrice|     Tax|            FileName|           CreatedTS|          ModifiedTS|\n",
            "+----------------+--------------------+----------+--------------+--------------------+--------------------+--------+---------+--------+--------------------+--------------------+--------------------+\n",
            "|         SO43704|                   1|2019-07-01|    Julio Ruiz|julio1@adventure-...|Mountain-100 Blac...|       1|  3374.99|269.9992|file:///C:/Users/...|2024-04-03 18:11:...|2024-04-03 18:11:...|\n",
            "|         SO43705|                   1|2019-07-01|     Curtis Lu|curtis9@adventure...|Mountain-100 Silv...|       1|  3399.99|271.9992|file:///C:/Users/...|2024-04-03 18:11:...|2024-04-03 18:11:...|\n",
            "|         SO43700|                   1|2019-07-01|  Ruben Prasad|ruben10@adventure...|  Road-650 Black, 62|       1| 699.0982| 55.9279|file:///C:/Users/...|2024-04-03 18:11:...|2024-04-03 18:11:...|\n",
            "|         SO43703|                   1|2019-07-01|Albert Alvarez|albert7@adventure...|    Road-150 Red, 62|       1|  3578.27|286.2616|file:///C:/Users/...|2024-04-03 18:11:...|2024-04-03 18:11:...|\n",
            "|         SO43697|                   1|2019-07-01|   Cole Watson|cole1@adventure-w...|    Road-150 Red, 62|       1|  3578.27|286.2616|file:///C:/Users/...|2024-04-03 18:11:...|2024-04-03 18:11:...|\n",
            "+----------------+--------------------+----------+--------------+--------------------+--------------------+--------+---------+--------+--------------------+--------------------+--------------------+\n",
            "only showing top 5 rows\n",
            "\n"
          ]
        }
      ],
      "source": [
        "# Drop rows with null values in the \"age\" column\n",
        "df_filtered = df.filter(col(\"CustomerName\").isNotNull())\n",
        "\n",
        "# Show the resulting DataFrame\n",
        "df_filtered.show(5)\n"
      ]
    },
    {
      "cell_type": "markdown",
      "id": "4c8ac33d-2fbd-4131-abf5-fcb3935f2eb3",
      "metadata": {
        "id": "4c8ac33d-2fbd-4131-abf5-fcb3935f2eb3"
      },
      "source": [
        "#### Handle missing values"
      ]
    },
    {
      "cell_type": "code",
      "execution_count": null,
      "id": "80a7c6ee-4374-4b80-aa0a-adfef00c4538",
      "metadata": {
        "id": "80a7c6ee-4374-4b80-aa0a-adfef00c4538",
        "outputId": "592c6790-484f-496a-d6ce-c253b0a2109f"
      },
      "outputs": [
        {
          "name": "stdout",
          "output_type": "stream",
          "text": [
            "+----------------+--------------------+----------+----------------+--------------------+--------------------+--------+---------+--------+--------------------+--------------------+--------------------+\n",
            "|SalesOrderNumber|SalesOrderLineNumber| OrderDate|    CustomerName|               Email|                Item|Quantity|UnitPrice|     Tax|            FileName|           CreatedTS|          ModifiedTS|\n",
            "+----------------+--------------------+----------+----------------+--------------------+--------------------+--------+---------+--------+--------------------+--------------------+--------------------+\n",
            "|         SO43701|                   1|2019-07-01|            null|christy12@adventu...|Mountain-100 Silv...|       1|  3399.99|271.9992|file:///C:/Users/...|2024-04-03 18:12:...|2024-04-03 18:12:...|\n",
            "|         SO43704|                   1|2019-07-01|      Julio Ruiz|julio1@adventure-...|Mountain-100 Blac...|       1|  3374.99|269.9992|file:///C:/Users/...|2024-04-03 18:12:...|2024-04-03 18:12:...|\n",
            "|         SO43705|                   1|2019-07-01|       Curtis Lu|curtis9@adventure...|Mountain-100 Silv...|       1|  3399.99|271.9992|file:///C:/Users/...|2024-04-03 18:12:...|2024-04-03 18:12:...|\n",
            "|         SO43700|                   1|2019-07-01|    Ruben Prasad|ruben10@adventure...|  Road-650 Black, 62|       1| 699.0982| 55.9279|file:///C:/Users/...|2024-04-03 18:12:...|2024-04-03 18:12:...|\n",
            "|         SO43703|                   1|2019-07-01|  Albert Alvarez|albert7@adventure...|    Road-150 Red, 62|       1|  3578.27|286.2616|file:///C:/Users/...|2024-04-03 18:12:...|2024-04-03 18:12:...|\n",
            "|         SO43697|                   1|2019-07-01|     Cole Watson|cole1@adventure-w...|    Road-150 Red, 62|       1|  3578.27|286.2616|file:///C:/Users/...|2024-04-03 18:12:...|2024-04-03 18:12:...|\n",
            "|         SO43699|                   1|2019-07-01|   Sydney Wright|sydney61@adventur...|Mountain-100 Silv...|       1|  3399.99|271.9992|file:///C:/Users/...|2024-04-03 18:12:...|2024-04-03 18:12:...|\n",
            "|         SO43702|                   1|2019-07-01|     Colin Anand|colin45@adventure...|    Road-150 Red, 44|       1|  3578.27|286.2616|file:///C:/Users/...|2024-04-03 18:12:...|2024-04-03 18:12:...|\n",
            "|         SO43698|                   1|2019-07-01|Rachael Martinez|rachael16@adventu...|Mountain-100 Silv...|       1|  3399.99|271.9992|file:///C:/Users/...|2024-04-03 18:12:...|2024-04-03 18:12:...|\n",
            "|         SO43707|                   1|2019-07-02|      Emma Brown|emma3@adventure-w...|    Road-150 Red, 48|       1|  3578.27|286.2616|file:///C:/Users/...|2024-04-03 18:12:...|2024-04-03 18:12:...|\n",
            "+----------------+--------------------+----------+----------------+--------------------+--------------------+--------+---------+--------+--------------------+--------------------+--------------------+\n",
            "only showing top 10 rows\n",
            "\n"
          ]
        }
      ],
      "source": [
        "df_pyspark = df\n",
        "df_pyspark.show(10)"
      ]
    },
    {
      "cell_type": "markdown",
      "id": "f48f533f-ca9a-4245-84ca-c596cf1ca393",
      "metadata": {
        "id": "f48f533f-ca9a-4245-84ca-c596cf1ca393"
      },
      "source": [
        "#### Remove null value"
      ]
    },
    {
      "cell_type": "code",
      "execution_count": null,
      "id": "7148399e-4571-47e3-a7f3-00455be7a380",
      "metadata": {
        "id": "7148399e-4571-47e3-a7f3-00455be7a380",
        "outputId": "b982b207-6402-43ae-994b-59b8c5620694"
      },
      "outputs": [
        {
          "name": "stdout",
          "output_type": "stream",
          "text": [
            "+----------------+--------------------+----------+----------------+--------------------+--------------------+--------+---------+--------+--------------------+--------------------+--------------------+\n",
            "|SalesOrderNumber|SalesOrderLineNumber| OrderDate|    CustomerName|               Email|                Item|Quantity|UnitPrice|     Tax|            FileName|           CreatedTS|          ModifiedTS|\n",
            "+----------------+--------------------+----------+----------------+--------------------+--------------------+--------+---------+--------+--------------------+--------------------+--------------------+\n",
            "|         SO43704|                   1|2019-07-01|      Julio Ruiz|julio1@adventure-...|Mountain-100 Blac...|       1|  3374.99|269.9992|file:///C:/Users/...|2024-04-03 18:13:...|2024-04-03 18:13:...|\n",
            "|         SO43705|                   1|2019-07-01|       Curtis Lu|curtis9@adventure...|Mountain-100 Silv...|       1|  3399.99|271.9992|file:///C:/Users/...|2024-04-03 18:13:...|2024-04-03 18:13:...|\n",
            "|         SO43700|                   1|2019-07-01|    Ruben Prasad|ruben10@adventure...|  Road-650 Black, 62|       1| 699.0982| 55.9279|file:///C:/Users/...|2024-04-03 18:13:...|2024-04-03 18:13:...|\n",
            "|         SO43703|                   1|2019-07-01|  Albert Alvarez|albert7@adventure...|    Road-150 Red, 62|       1|  3578.27|286.2616|file:///C:/Users/...|2024-04-03 18:13:...|2024-04-03 18:13:...|\n",
            "|         SO43697|                   1|2019-07-01|     Cole Watson|cole1@adventure-w...|    Road-150 Red, 62|       1|  3578.27|286.2616|file:///C:/Users/...|2024-04-03 18:13:...|2024-04-03 18:13:...|\n",
            "|         SO43699|                   1|2019-07-01|   Sydney Wright|sydney61@adventur...|Mountain-100 Silv...|       1|  3399.99|271.9992|file:///C:/Users/...|2024-04-03 18:13:...|2024-04-03 18:13:...|\n",
            "|         SO43702|                   1|2019-07-01|     Colin Anand|colin45@adventure...|    Road-150 Red, 44|       1|  3578.27|286.2616|file:///C:/Users/...|2024-04-03 18:13:...|2024-04-03 18:13:...|\n",
            "|         SO43698|                   1|2019-07-01|Rachael Martinez|rachael16@adventu...|Mountain-100 Silv...|       1|  3399.99|271.9992|file:///C:/Users/...|2024-04-03 18:13:...|2024-04-03 18:13:...|\n",
            "|         SO43707|                   1|2019-07-02|      Emma Brown|emma3@adventure-w...|    Road-150 Red, 48|       1|  3578.27|286.2616|file:///C:/Users/...|2024-04-03 18:13:...|2024-04-03 18:13:...|\n",
            "|         SO43711|                   1|2019-07-02|Courtney Edwards|courtney1@adventu...|    Road-150 Red, 56|       1|  3578.27|286.2616|file:///C:/Users/...|2024-04-03 18:13:...|2024-04-03 18:13:...|\n",
            "+----------------+--------------------+----------+----------------+--------------------+--------------------+--------+---------+--------+--------------------+--------------------+--------------------+\n",
            "only showing top 10 rows\n",
            "\n"
          ]
        }
      ],
      "source": [
        "df_pyspark.na.drop().show(10)"
      ]
    },
    {
      "cell_type": "markdown",
      "id": "6d947fb6-49b2-4c8d-87c2-03f453838ebe",
      "metadata": {
        "id": "6d947fb6-49b2-4c8d-87c2-03f453838ebe"
      },
      "source": [
        "#### Filling null values"
      ]
    },
    {
      "cell_type": "code",
      "execution_count": null,
      "id": "ac9a83ec-c87f-4277-8d4a-9c7ccdfc75bd",
      "metadata": {
        "id": "ac9a83ec-c87f-4277-8d4a-9c7ccdfc75bd",
        "outputId": "e579dea4-2440-4853-9dcb-932841d0823f"
      },
      "outputs": [
        {
          "name": "stdout",
          "output_type": "stream",
          "text": [
            "+----------------+--------------------+----------+----------------+--------------------+--------------------+--------+---------+--------+--------------------+--------------------+--------------------+\n",
            "|SalesOrderNumber|SalesOrderLineNumber| OrderDate|    CustomerName|               Email|                Item|Quantity|UnitPrice|     Tax|            FileName|           CreatedTS|          ModifiedTS|\n",
            "+----------------+--------------------+----------+----------------+--------------------+--------------------+--------+---------+--------+--------------------+--------------------+--------------------+\n",
            "|         SO43701|                   1|2019-07-01|         Missing|christy12@adventu...|Mountain-100 Silv...|       1|  3399.99|271.9992|file:///C:/Users/...|2024-04-03 18:14:...|2024-04-03 18:14:...|\n",
            "|         SO43704|                   1|2019-07-01|      Julio Ruiz|julio1@adventure-...|Mountain-100 Blac...|       1|  3374.99|269.9992|file:///C:/Users/...|2024-04-03 18:14:...|2024-04-03 18:14:...|\n",
            "|         SO43705|                   1|2019-07-01|       Curtis Lu|curtis9@adventure...|Mountain-100 Silv...|       1|  3399.99|271.9992|file:///C:/Users/...|2024-04-03 18:14:...|2024-04-03 18:14:...|\n",
            "|         SO43700|                   1|2019-07-01|    Ruben Prasad|ruben10@adventure...|  Road-650 Black, 62|       1| 699.0982| 55.9279|file:///C:/Users/...|2024-04-03 18:14:...|2024-04-03 18:14:...|\n",
            "|         SO43703|                   1|2019-07-01|  Albert Alvarez|albert7@adventure...|    Road-150 Red, 62|       1|  3578.27|286.2616|file:///C:/Users/...|2024-04-03 18:14:...|2024-04-03 18:14:...|\n",
            "|         SO43697|                   1|2019-07-01|     Cole Watson|cole1@adventure-w...|    Road-150 Red, 62|       1|  3578.27|286.2616|file:///C:/Users/...|2024-04-03 18:14:...|2024-04-03 18:14:...|\n",
            "|         SO43699|                   1|2019-07-01|   Sydney Wright|sydney61@adventur...|Mountain-100 Silv...|       1|  3399.99|271.9992|file:///C:/Users/...|2024-04-03 18:14:...|2024-04-03 18:14:...|\n",
            "|         SO43702|                   1|2019-07-01|     Colin Anand|colin45@adventure...|    Road-150 Red, 44|       1|  3578.27|286.2616|file:///C:/Users/...|2024-04-03 18:14:...|2024-04-03 18:14:...|\n",
            "|         SO43698|                   1|2019-07-01|Rachael Martinez|rachael16@adventu...|Mountain-100 Silv...|       1|  3399.99|271.9992|file:///C:/Users/...|2024-04-03 18:14:...|2024-04-03 18:14:...|\n",
            "|         SO43707|                   1|2019-07-02|      Emma Brown|emma3@adventure-w...|    Road-150 Red, 48|       1|  3578.27|286.2616|file:///C:/Users/...|2024-04-03 18:14:...|2024-04-03 18:14:...|\n",
            "|         SO43711|                   1|2019-07-02|Courtney Edwards|courtney1@adventu...|    Road-150 Red, 56|       1|  3578.27|286.2616|file:///C:/Users/...|2024-04-03 18:14:...|2024-04-03 18:14:...|\n",
            "|         SO43706|                   1|2019-07-02|    Edward Brown|edward26@adventur...|    Road-150 Red, 48|       1|  3578.27|286.2616|file:///C:/Users/...|2024-04-03 18:14:...|2024-04-03 18:14:...|\n",
            "|         SO43708|                   1|2019-07-02|       Brad Deng|brad2@adventure-w...|    Road-650 Red, 52|       1| 699.0982| 55.9279|file:///C:/Users/...|2024-04-03 18:14:...|2024-04-03 18:14:...|\n",
            "|         SO43709|                   1|2019-07-02|       Martha Xu|martha12@adventur...|    Road-150 Red, 52|       1|  3578.27|286.2616|file:///C:/Users/...|2024-04-03 18:14:...|2024-04-03 18:14:...|\n",
            "|         SO43710|                   1|2019-07-02|         Missing|katrina20@adventu...|    Road-150 Red, 56|       1|  3578.27|286.2616|file:///C:/Users/...|2024-04-03 18:14:...|2024-04-03 18:14:...|\n",
            "|         SO43712|                   1|2019-07-02|            null|abigail73@adventu...|    Road-150 Red, 44|       1|  3578.27|286.2616|file:///C:/Users/...|2024-04-03 18:14:...|2024-04-03 18:14:...|\n",
            "|         SO43720|                   1|2019-07-03| Melanie Sanchez|melanie47@adventu...|    Road-150 Red, 44|       1|  3578.27|286.2616|file:///C:/Users/...|2024-04-03 18:14:...|2024-04-03 18:14:...|\n",
            "|         SO43721|                   1|2019-07-03|       Louis Xie|louis20@adventure...|    Road-150 Red, 62|       1|  3578.27|286.2616|file:///C:/Users/...|2024-04-03 18:14:...|2024-04-03 18:14:...|\n",
            "|         SO43714|                   1|2019-07-03|  Latasha Alonso|latasha8@adventur...|    Road-150 Red, 44|       1|  3578.27|286.2616|file:///C:/Users/...|2024-04-03 18:14:...|2024-04-03 18:14:...|\n",
            "|         SO43715|                   1|2019-07-03|      Warren Jai|warren42@adventur...|    Road-150 Red, 56|       1|  3578.27|286.2616|file:///C:/Users/...|2024-04-03 18:14:...|2024-04-03 18:14:...|\n",
            "+----------------+--------------------+----------+----------------+--------------------+--------------------+--------+---------+--------+--------------------+--------------------+--------------------+\n",
            "only showing top 20 rows\n",
            "\n"
          ]
        }
      ],
      "source": [
        "df_pyspark.na.fill(\"Missing\").show()"
      ]
    },
    {
      "cell_type": "markdown",
      "id": "08924117-e7f2-465d-a171-be8dbcf779d3",
      "metadata": {
        "id": "08924117-e7f2-465d-a171-be8dbcf779d3"
      },
      "source": [
        "### USING SQL"
      ]
    },
    {
      "cell_type": "code",
      "execution_count": null,
      "id": "a105196e-098d-4c4b-a6e5-d1e9919923eb",
      "metadata": {
        "id": "a105196e-098d-4c4b-a6e5-d1e9919923eb",
        "outputId": "336d761f-93d6-45c7-ae49-7d1567bdd16d"
      },
      "outputs": [
        {
          "name": "stdout",
          "output_type": "stream",
          "text": [
            "+----------------+--------------------+----------+----------------+--------------------+--------------------+--------+---------+--------+--------------------+--------------------+--------------------+\n",
            "|SalesOrderNumber|SalesOrderLineNumber| OrderDate|    CustomerName|               Email|                Item|Quantity|UnitPrice|     Tax|            FileName|           CreatedTS|          ModifiedTS|\n",
            "+----------------+--------------------+----------+----------------+--------------------+--------------------+--------+---------+--------+--------------------+--------------------+--------------------+\n",
            "|         SO43701|                   1|2019-07-01|            null|christy12@adventu...|Mountain-100 Silv...|       1|  3399.99|271.9992|file:///C:/Users/...|2024-04-03 18:16:...|2024-04-03 18:16:...|\n",
            "|         SO43704|                   1|2019-07-01|      Julio Ruiz|julio1@adventure-...|Mountain-100 Blac...|       1|  3374.99|269.9992|file:///C:/Users/...|2024-04-03 18:16:...|2024-04-03 18:16:...|\n",
            "|         SO43705|                   1|2019-07-01|       Curtis Lu|curtis9@adventure...|Mountain-100 Silv...|       1|  3399.99|271.9992|file:///C:/Users/...|2024-04-03 18:16:...|2024-04-03 18:16:...|\n",
            "|         SO43700|                   1|2019-07-01|    Ruben Prasad|ruben10@adventure...|  Road-650 Black, 62|       1| 699.0982| 55.9279|file:///C:/Users/...|2024-04-03 18:16:...|2024-04-03 18:16:...|\n",
            "|         SO43703|                   1|2019-07-01|  Albert Alvarez|albert7@adventure...|    Road-150 Red, 62|       1|  3578.27|286.2616|file:///C:/Users/...|2024-04-03 18:16:...|2024-04-03 18:16:...|\n",
            "|         SO43697|                   1|2019-07-01|     Cole Watson|cole1@adventure-w...|    Road-150 Red, 62|       1|  3578.27|286.2616|file:///C:/Users/...|2024-04-03 18:16:...|2024-04-03 18:16:...|\n",
            "|         SO43699|                   1|2019-07-01|   Sydney Wright|sydney61@adventur...|Mountain-100 Silv...|       1|  3399.99|271.9992|file:///C:/Users/...|2024-04-03 18:16:...|2024-04-03 18:16:...|\n",
            "|         SO43702|                   1|2019-07-01|     Colin Anand|colin45@adventure...|    Road-150 Red, 44|       1|  3578.27|286.2616|file:///C:/Users/...|2024-04-03 18:16:...|2024-04-03 18:16:...|\n",
            "|         SO43698|                   1|2019-07-01|Rachael Martinez|rachael16@adventu...|Mountain-100 Silv...|       1|  3399.99|271.9992|file:///C:/Users/...|2024-04-03 18:16:...|2024-04-03 18:16:...|\n",
            "|         SO43707|                   1|2019-07-02|      Emma Brown|emma3@adventure-w...|    Road-150 Red, 48|       1|  3578.27|286.2616|file:///C:/Users/...|2024-04-03 18:16:...|2024-04-03 18:16:...|\n",
            "+----------------+--------------------+----------+----------------+--------------------+--------------------+--------+---------+--------+--------------------+--------------------+--------------------+\n",
            "only showing top 10 rows\n",
            "\n"
          ]
        }
      ],
      "source": [
        "df.show(10)"
      ]
    },
    {
      "cell_type": "code",
      "execution_count": null,
      "id": "edfd2fb7-67a6-4038-895a-09ddc3874a19",
      "metadata": {
        "id": "edfd2fb7-67a6-4038-895a-09ddc3874a19"
      },
      "outputs": [],
      "source": [
        "## Assuming you have a PySpark DataFrame named \"df\"\n",
        "df.createOrReplaceTempView(\"customerdata\")"
      ]
    },
    {
      "cell_type": "code",
      "execution_count": null,
      "id": "b69a1875-64a0-4fe3-9544-f395b2074dc7",
      "metadata": {
        "id": "b69a1875-64a0-4fe3-9544-f395b2074dc7",
        "outputId": "59f92a3a-59a9-4fcc-d7ea-362028fc5d2c"
      },
      "outputs": [
        {
          "name": "stdout",
          "output_type": "stream",
          "text": [
            "+----------------+--------------------+----------+--------------+--------------------+--------------------+--------+---------+--------+--------------------+--------------------+--------------------+\n",
            "|SalesOrderNumber|SalesOrderLineNumber| OrderDate|  CustomerName|               Email|                Item|Quantity|UnitPrice|     Tax|            FileName|           CreatedTS|          ModifiedTS|\n",
            "+----------------+--------------------+----------+--------------+--------------------+--------------------+--------+---------+--------+--------------------+--------------------+--------------------+\n",
            "|         SO43701|                   1|2019-07-01|          null|christy12@adventu...|Mountain-100 Silv...|       1|  3399.99|271.9992|file:///C:/Users/...|2024-04-03 18:17:...|2024-04-03 18:17:...|\n",
            "|         SO43704|                   1|2019-07-01|    Julio Ruiz|julio1@adventure-...|Mountain-100 Blac...|       1|  3374.99|269.9992|file:///C:/Users/...|2024-04-03 18:17:...|2024-04-03 18:17:...|\n",
            "|         SO43705|                   1|2019-07-01|     Curtis Lu|curtis9@adventure...|Mountain-100 Silv...|       1|  3399.99|271.9992|file:///C:/Users/...|2024-04-03 18:17:...|2024-04-03 18:17:...|\n",
            "|         SO43700|                   1|2019-07-01|  Ruben Prasad|ruben10@adventure...|  Road-650 Black, 62|       1| 699.0982| 55.9279|file:///C:/Users/...|2024-04-03 18:17:...|2024-04-03 18:17:...|\n",
            "|         SO43703|                   1|2019-07-01|Albert Alvarez|albert7@adventure...|    Road-150 Red, 62|       1|  3578.27|286.2616|file:///C:/Users/...|2024-04-03 18:17:...|2024-04-03 18:17:...|\n",
            "+----------------+--------------------+----------+--------------+--------------------+--------------------+--------+---------+--------+--------------------+--------------------+--------------------+\n",
            "only showing top 5 rows\n",
            "\n"
          ]
        }
      ],
      "source": [
        "# SQL Select query\n",
        "spark.sql(\"SELECT *  FROM customerdata\").show(5)"
      ]
    },
    {
      "cell_type": "markdown",
      "id": "171956a0-6ca8-40f0-970f-376c8173ad37",
      "metadata": {
        "id": "171956a0-6ca8-40f0-970f-376c8173ad37"
      },
      "source": [
        "##### FULL COMPARISON"
      ]
    },
    {
      "cell_type": "code",
      "execution_count": null,
      "id": "0d7504f6-fee6-49ef-b387-bb71d7163e60",
      "metadata": {
        "id": "0d7504f6-fee6-49ef-b387-bb71d7163e60"
      },
      "outputs": [],
      "source": [
        "# Import\n",
        "from pyspark.sql import SparkSession\n",
        "\n",
        "# Create SparkSession\n",
        "spark = SparkSession.builder.appName('SparkByExamples.com').getOrCreate()\n"
      ]
    },
    {
      "cell_type": "code",
      "execution_count": null,
      "id": "396ffb9f-3c03-46c7-818b-b81ce7ee313f",
      "metadata": {
        "id": "396ffb9f-3c03-46c7-818b-b81ce7ee313f",
        "outputId": "6cec9b42-2029-4f36-cd24-f73af4f9d6cd"
      },
      "outputs": [
        {
          "name": "stdout",
          "output_type": "stream",
          "text": [
            "root\n",
            " |-- RecordNumber: string (nullable = true)\n",
            " |-- Country: string (nullable = true)\n",
            " |-- City: string (nullable = true)\n",
            " |-- Zipcode: string (nullable = true)\n",
            " |-- State: string (nullable = true)\n",
            "\n",
            "+------------+-------+-------------------+-------+-----+\n",
            "|RecordNumber|Country|               City|Zipcode|State|\n",
            "+------------+-------+-------------------+-------+-----+\n",
            "|           1|     US|        PARC PARQUE|    704|   PR|\n",
            "|           2|     US|PASEO COSTA DEL SUR|    704|   PR|\n",
            "|          10|     US|       BDA SAN LUIS|    709|   PR|\n",
            "|       49347|     US|               HOLT|  32564|   FL|\n",
            "|       49348|     US|          HOMOSASSA|  34487|   FL|\n",
            "|       61391|     US|  CINGULAR WIRELESS|  76166|   TX|\n",
            "|       61392|     US|         FORT WORTH|  76177|   TX|\n",
            "|       61393|     US|           FT WORTH|  76177|   TX|\n",
            "|       54356|     US|        SPRUCE PINE|  35585|   AL|\n",
            "|       76511|     US|           ASH HILL|  27007|   NC|\n",
            "|           4|     US|    URB EUGENE RICE|    704|   PR|\n",
            "|       39827|     US|               MESA|  85209|   AZ|\n",
            "|       39828|     US|               MESA|  85210|   AZ|\n",
            "|       49345|     US|           HILLIARD|  32046|   FL|\n",
            "|       49346|     US|             HOLDER|  34445|   FL|\n",
            "|           3|     US|      SECT LANAUSSE|    704|   PR|\n",
            "|       54354|     US|      SPRING GARDEN|  36275|   AL|\n",
            "|       54355|     US|        SPRINGVILLE|  35146|   AL|\n",
            "|       76512|     US|           ASHEBORO|  27203|   NC|\n",
            "|       76513|     US|           ASHEBORO|  27204|   NC|\n",
            "+------------+-------+-------------------+-------+-----+\n",
            "\n"
          ]
        }
      ],
      "source": [
        "\n",
        "# Create DataFrame\n",
        "df = spark.read \\\n",
        "          .option(\"header\",True) \\\n",
        "          .csv(\"./simple-zipcodes.csv\")\n",
        "df.printSchema()\n",
        "df.show()\n"
      ]
    },
    {
      "cell_type": "code",
      "execution_count": null,
      "id": "62012860-166e-4ca7-8148-fe58824510f6",
      "metadata": {
        "id": "62012860-166e-4ca7-8148-fe58824510f6"
      },
      "outputs": [],
      "source": [
        "# Create SQL table\n",
        "spark.read \\\n",
        "          .option(\"header\",True) \\\n",
        "          .csv(\"./simple-zipcodes.csv\") \\\n",
        "          .createOrReplaceTempView(\"Zipcodes\")\n"
      ]
    },
    {
      "cell_type": "code",
      "execution_count": null,
      "id": "7732e6ff-7735-47b7-a3cd-c06581cdc7a3",
      "metadata": {
        "id": "7732e6ff-7735-47b7-a3cd-c06581cdc7a3",
        "outputId": "b52156d1-e7e5-470c-9bc6-8fa69b4bcd4c"
      },
      "outputs": [
        {
          "name": "stdout",
          "output_type": "stream",
          "text": [
            "+-------+-------------------+-------+-----+\n",
            "|country|               city|zipcode|state|\n",
            "+-------+-------------------+-------+-----+\n",
            "|     US|        PARC PARQUE|    704|   PR|\n",
            "|     US|PASEO COSTA DEL SUR|    704|   PR|\n",
            "|     US|       BDA SAN LUIS|    709|   PR|\n",
            "|     US|               HOLT|  32564|   FL|\n",
            "|     US|          HOMOSASSA|  34487|   FL|\n",
            "+-------+-------------------+-------+-----+\n",
            "only showing top 5 rows\n",
            "\n",
            "+-------+-------------------+-------+-----+\n",
            "|country|               city|zipcode|state|\n",
            "+-------+-------------------+-------+-----+\n",
            "|     US|        PARC PARQUE|    704|   PR|\n",
            "|     US|PASEO COSTA DEL SUR|    704|   PR|\n",
            "|     US|       BDA SAN LUIS|    709|   PR|\n",
            "|     US|               HOLT|  32564|   FL|\n",
            "|     US|          HOMOSASSA|  34487|   FL|\n",
            "+-------+-------------------+-------+-----+\n",
            "only showing top 5 rows\n",
            "\n"
          ]
        }
      ],
      "source": [
        "# Select query\n",
        "df.select(\"country\",\"city\",\"zipcode\",\"state\").show(5)\n",
        "\n",
        "spark.sql(\"SELECT country, city, zipcode, state FROM ZIPCODES\").show(5)\n"
      ]
    },
    {
      "cell_type": "code",
      "execution_count": null,
      "id": "95d4dfc2-a1b9-48a8-a38c-0cbdb193fb26",
      "metadata": {
        "id": "95d4dfc2-a1b9-48a8-a38c-0cbdb193fb26",
        "outputId": "2d5fe503-41ba-4ac8-9146-4a0f0e4f64f1"
      },
      "outputs": [
        {
          "name": "stdout",
          "output_type": "stream",
          "text": [
            "+-------+----+-------+-----+\n",
            "|country|city|zipcode|state|\n",
            "+-------+----+-------+-----+\n",
            "|     US|MESA|  85209|   AZ|\n",
            "|     US|MESA|  85210|   AZ|\n",
            "+-------+----+-------+-----+\n",
            "\n",
            "+-------+----+-------+-----+\n",
            "|country|city|zipcode|state|\n",
            "+-------+----+-------+-----+\n",
            "|     US|MESA|  85209|   AZ|\n",
            "|     US|MESA|  85210|   AZ|\n",
            "+-------+----+-------+-----+\n",
            "\n"
          ]
        }
      ],
      "source": [
        "# where\n",
        "df.select(\"country\",\"city\",\"zipcode\",\"state\") \\\n",
        "  .where(\"state == 'AZ'\") \\\n",
        "  .show(5)\n",
        "\n",
        "spark.sql(\"\"\" SELECT country, city, zipcode, state FROM ZIPCODES\n",
        "          WHERE state = 'AZ' \"\"\") \\\n",
        "     .show(5)"
      ]
    },
    {
      "cell_type": "code",
      "execution_count": null,
      "id": "cce57797-5acf-4726-b95b-6d141dabe20c",
      "metadata": {
        "id": "cce57797-5acf-4726-b95b-6d141dabe20c",
        "outputId": "048c27d8-57bd-40ee-9f28-55e38852b52f"
      },
      "outputs": [
        {
          "name": "stdout",
          "output_type": "stream",
          "text": [
            "+-------+-------------------+-------+-----+\n",
            "|country|               city|zipcode|state|\n",
            "+-------+-------------------+-------+-----+\n",
            "|     US|               MESA|  85209|   AZ|\n",
            "|     US|               MESA|  85210|   AZ|\n",
            "|     US|               HOLT|  32564|   FL|\n",
            "|     US|          HOMOSASSA|  34487|   FL|\n",
            "|     US|           HILLIARD|  32046|   FL|\n",
            "|     US|             HOLDER|  34445|   FL|\n",
            "|     US|        PARC PARQUE|    704|   PR|\n",
            "|     US|PASEO COSTA DEL SUR|    704|   PR|\n",
            "|     US|       BDA SAN LUIS|    709|   PR|\n",
            "|     US|    URB EUGENE RICE|    704|   PR|\n",
            "+-------+-------------------+-------+-----+\n",
            "only showing top 10 rows\n",
            "\n",
            "+-------+-------------------+-------+-----+\n",
            "|country|               city|zipcode|state|\n",
            "+-------+-------------------+-------+-----+\n",
            "|     US|               MESA|  85209|   AZ|\n",
            "|     US|               MESA|  85210|   AZ|\n",
            "|     US|               HOLT|  32564|   FL|\n",
            "|     US|          HOMOSASSA|  34487|   FL|\n",
            "|     US|           HILLIARD|  32046|   FL|\n",
            "|     US|             HOLDER|  34445|   FL|\n",
            "|     US|        PARC PARQUE|    704|   PR|\n",
            "|     US|PASEO COSTA DEL SUR|    704|   PR|\n",
            "|     US|       BDA SAN LUIS|    709|   PR|\n",
            "|     US|    URB EUGENE RICE|    704|   PR|\n",
            "+-------+-------------------+-------+-----+\n",
            "only showing top 10 rows\n",
            "\n"
          ]
        }
      ],
      "source": [
        "# sorting\n",
        "df.select(\"country\",\"city\",\"zipcode\",\"state\") \\\n",
        "  .where(\"state in ('PR','AZ','FL')\") \\\n",
        "  .orderBy(\"state\") \\\n",
        "  .show(10)\n",
        "\n",
        "spark.sql(\"\"\" SELECT  country, city, zipcode, state FROM ZIPCODES\n",
        "          WHERE state in ('PR','AZ','FL') order by state \"\"\") \\\n",
        "     .show(10)"
      ]
    },
    {
      "cell_type": "code",
      "execution_count": null,
      "id": "757aa2c9-4fb0-4204-9a0f-0970805a7e86",
      "metadata": {
        "id": "757aa2c9-4fb0-4204-9a0f-0970805a7e86",
        "outputId": "7aaf033f-f016-48c4-9b8d-fef8a69f10fd"
      },
      "outputs": [
        {
          "name": "stdout",
          "output_type": "stream",
          "text": [
            "+-----+-----+\n",
            "|state|count|\n",
            "+-----+-----+\n",
            "|   AZ|    2|\n",
            "|   NC|    3|\n",
            "|   AL|    3|\n",
            "|   TX|    3|\n",
            "|   FL|    4|\n",
            "|   PR|    5|\n",
            "+-----+-----+\n",
            "\n",
            "+-----+-----+\n",
            "|state|count|\n",
            "+-----+-----+\n",
            "|   AZ|    2|\n",
            "|   NC|    3|\n",
            "|   AL|    3|\n",
            "|   TX|    3|\n",
            "|   FL|    4|\n",
            "|   PR|    5|\n",
            "+-----+-----+\n",
            "\n"
          ]
        }
      ],
      "source": [
        "# grouping\n",
        "df.groupBy(\"state\").count() \\\n",
        "  .show()\n",
        "\n",
        "spark.sql(\"\"\" SELECT state, count(*) as count FROM ZIPCODES\n",
        "          GROUP BY state\"\"\") \\\n",
        "     .show()"
      ]
    },
    {
      "cell_type": "markdown",
      "id": "c7962abb-b479-49d7-804a-66636ca59fda",
      "metadata": {
        "id": "c7962abb-b479-49d7-804a-66636ca59fda"
      },
      "source": [
        "### Query catalog"
      ]
    },
    {
      "cell_type": "code",
      "execution_count": null,
      "id": "40d71606-9084-4c5d-9904-e7165ddf1886",
      "metadata": {
        "id": "40d71606-9084-4c5d-9904-e7165ddf1886",
        "outputId": "8c6ca407-8c79-462b-a106-bd55a3698ad9"
      },
      "outputs": [
        {
          "data": {
            "text/plain": [
              "'spark_catalog'"
            ]
          },
          "execution_count": 52,
          "metadata": {},
          "output_type": "execute_result"
        }
      ],
      "source": [
        "spark.catalog.currentCatalog()"
      ]
    },
    {
      "cell_type": "code",
      "execution_count": null,
      "id": "c76409bf-3ded-43c0-b1ff-3fc2f96ca8ab",
      "metadata": {
        "id": "c76409bf-3ded-43c0-b1ff-3fc2f96ca8ab",
        "outputId": "fe15e02e-bcf8-471b-baf0-9ca4bb5b6f65"
      },
      "outputs": [
        {
          "data": {
            "text/plain": [
              "'default'"
            ]
          },
          "execution_count": 53,
          "metadata": {},
          "output_type": "execute_result"
        }
      ],
      "source": [
        "spark.catalog.currentDatabase()"
      ]
    },
    {
      "cell_type": "code",
      "execution_count": null,
      "id": "840274f5-200c-4d15-b144-88b341c46627",
      "metadata": {
        "id": "840274f5-200c-4d15-b144-88b341c46627",
        "outputId": "1d335045-0b06-46fd-9c69-dae09c70ddce"
      },
      "outputs": [
        {
          "data": {
            "text/plain": [
              "[CatalogMetadata(name='spark_catalog', description=None)]"
            ]
          },
          "execution_count": 54,
          "metadata": {},
          "output_type": "execute_result"
        }
      ],
      "source": [
        "spark.catalog.listCatalogs()"
      ]
    },
    {
      "cell_type": "code",
      "execution_count": null,
      "id": "05173246-4c57-417b-aa2a-b4017e060c39",
      "metadata": {
        "id": "05173246-4c57-417b-aa2a-b4017e060c39",
        "outputId": "23ee4d35-d3b2-4a76-b3be-dbeaa6dc7102"
      },
      "outputs": [
        {
          "data": {
            "text/plain": [
              "[Database(name='default', catalog='spark_catalog', description='default database', locationUri='file:/C:/Users/gdardia/data/spark-warehouse')]"
            ]
          },
          "execution_count": 55,
          "metadata": {},
          "output_type": "execute_result"
        }
      ],
      "source": [
        "spark.catalog.listDatabases()"
      ]
    },
    {
      "cell_type": "code",
      "execution_count": null,
      "id": "0aafa069-9ac6-4ba5-a342-48a4cc037c3e",
      "metadata": {
        "id": "0aafa069-9ac6-4ba5-a342-48a4cc037c3e",
        "outputId": "63f79b0d-566b-4b0d-9867-7e06abc931e8"
      },
      "outputs": [
        {
          "data": {
            "text/plain": [
              "[Table(name='customerdata', catalog=None, namespace=[], description=None, tableType='TEMPORARY', isTemporary=True),\n",
              " Table(name='Zipcodes', catalog=None, namespace=[], description=None, tableType='TEMPORARY', isTemporary=True)]"
            ]
          },
          "execution_count": 56,
          "metadata": {},
          "output_type": "execute_result"
        }
      ],
      "source": [
        "spark.catalog.listTables(\"default\")"
      ]
    }
  ],
  "metadata": {
    "kernelspec": {
      "display_name": "Python 3 (ipykernel)",
      "language": "python",
      "name": "python3"
    },
    "language_info": {
      "codemirror_mode": {
        "name": "ipython",
        "version": 3
      },
      "file_extension": ".py",
      "mimetype": "text/x-python",
      "name": "python",
      "nbconvert_exporter": "python",
      "pygments_lexer": "ipython3",
      "version": "3.11.7"
    },
    "colab": {
      "provenance": []
    }
  },
  "nbformat": 4,
  "nbformat_minor": 5
}